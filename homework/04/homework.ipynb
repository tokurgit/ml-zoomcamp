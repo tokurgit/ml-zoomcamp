{
 "cells": [
  {
   "cell_type": "code",
   "execution_count": 70,
   "metadata": {},
   "outputs": [],
   "source": [
    "# !wget https://raw.githubusercontent.com/alexeygrigorev/mlbookcamp-code/master/chapter-02-car-price/data.csv"
   ]
  },
  {
   "cell_type": "code",
   "execution_count": 71,
   "metadata": {},
   "outputs": [],
   "source": [
    "import numpy as np\n",
    "import pandas as pd"
   ]
  },
  {
   "cell_type": "code",
   "execution_count": 72,
   "metadata": {},
   "outputs": [
    {
     "name": "stdout",
     "output_type": "stream",
     "text": [
      "FULL Index(['Make', 'Model', 'Year', 'Engine Fuel Type', 'Engine HP',\n",
      "       'Engine Cylinders', 'Transmission Type', 'Driven_Wheels',\n",
      "       'Number of Doors', 'Market Category', 'Vehicle Size', 'Vehicle Style',\n",
      "       'highway MPG', 'city mpg', 'Popularity', 'MSRP'],\n",
      "      dtype='object')\n",
      "USED Index(['Make', 'Model', 'Year', 'Engine HP', 'Engine Cylinders',\n",
      "       'Transmission Type', 'Vehicle Style', 'highway MPG', 'city mpg',\n",
      "       'MSRP'],\n",
      "      dtype='object')\n",
      "STANDARDIZED Index(['make', 'model', 'year', 'engine_hp', 'engine_cylinders',\n",
      "       'transmission_type', 'vehicle_style', 'highway_mpg', 'city_mpg',\n",
      "       'msrp'],\n",
      "      dtype='object')\n"
     ]
    }
   ],
   "source": [
    "df = pd.read_csv(\"data.csv\")\n",
    "used_columns = [\n",
    "    \"Make\",\n",
    "    \"Model\",\n",
    "    \"Year\",\n",
    "    \"Engine HP\",\n",
    "    \"Engine Cylinders\",\n",
    "    \"Transmission Type\",\n",
    "    \"Vehicle Style\",\n",
    "    \"highway MPG\",\n",
    "    \"city mpg\",\n",
    "    \"MSRP\",\n",
    "]\n",
    "print(\"FULL\", df.columns)\n",
    "df = df[used_columns]\n",
    "print(\"USED\", df.columns)\n",
    "\n",
    "df.columns = df.columns.str.lower().str.replace(\" \", \"_\")\n",
    "print(\"STANDARDIZED\", df.columns)\n"
   ]
  },
  {
   "cell_type": "code",
   "execution_count": 73,
   "metadata": {},
   "outputs": [
    {
     "name": "stdout",
     "output_type": "stream",
     "text": [
      "NULL BEFORE make                  0\n",
      "model                 0\n",
      "year                  0\n",
      "engine_hp            69\n",
      "engine_cylinders     30\n",
      "transmission_type     0\n",
      "vehicle_style         0\n",
      "highway_mpg           0\n",
      "city_mpg              0\n",
      "msrp                  0\n",
      "dtype: int64 \n",
      "\n",
      "NULL AFTER make                 0\n",
      "model                0\n",
      "year                 0\n",
      "engine_hp            0\n",
      "engine_cylinders     0\n",
      "transmission_type    0\n",
      "vehicle_style        0\n",
      "highway_mpg          0\n",
      "city_mpg             0\n",
      "msrp                 0\n",
      "dtype: int64 \n",
      "\n"
     ]
    }
   ],
   "source": [
    "print(\"NULL BEFORE\", df.isnull().sum(), \"\\n\")\n",
    "df = df.fillna(0)\n",
    "print(\"NULL AFTER\", df.isnull().sum(), \"\\n\")\n"
   ]
  },
  {
   "cell_type": "code",
   "execution_count": 74,
   "metadata": {},
   "outputs": [
    {
     "name": "stdout",
     "output_type": "stream",
     "text": [
      "AVG price 40594.737032063116\n"
     ]
    }
   ],
   "source": [
    "avg_msrp = df.msrp.mean()\n",
    "print(\"AVG price\", avg_msrp)\n",
    "df[\"above_average\"] = (df.msrp >= avg_msrp).astype(int)\n"
   ]
  },
  {
   "cell_type": "code",
   "execution_count": 75,
   "metadata": {},
   "outputs": [],
   "source": [
    "from sklearn.model_selection import train_test_split\n",
    "\n",
    "random_seed = 1\n",
    "df_full_train, df_test = train_test_split(df, test_size=0.2, random_state=random_seed)\n",
    "df_train, df_val = train_test_split(df_full_train, test_size=0.25, random_state=random_seed)\n",
    "\n",
    "y_train = df_train.above_average.values\n",
    "y_val = df_val.above_average.values\n",
    "y_test = df_test.above_average.values\n",
    "\n",
    "del df_train[\"above_average\"]\n",
    "del df_val[\"above_average\"]\n",
    "del df_test[\"above_average\"]\n",
    "\n",
    "\n",
    "del df_train[\"msrp\"]\n",
    "del df_val[\"msrp\"]\n",
    "del df_test[\"msrp\"]\n",
    "\n",
    "# Removing MSRP as it's directly correlates to \"above_average\"\n",
    "# ^^^ Also not lowercasing/replacing spaces for column values, as was not required"
   ]
  },
  {
   "cell_type": "markdown",
   "metadata": {},
   "source": []
  },
  {
   "cell_type": "code",
   "execution_count": 76,
   "metadata": {},
   "outputs": [
    {
     "data": {
      "text/html": [
       "<div>\n",
       "<style scoped>\n",
       "    .dataframe tbody tr th:only-of-type {\n",
       "        vertical-align: middle;\n",
       "    }\n",
       "\n",
       "    .dataframe tbody tr th {\n",
       "        vertical-align: top;\n",
       "    }\n",
       "\n",
       "    .dataframe thead th {\n",
       "        text-align: right;\n",
       "    }\n",
       "</style>\n",
       "<table border=\"1\" class=\"dataframe\">\n",
       "  <thead>\n",
       "    <tr style=\"text-align: right;\">\n",
       "      <th></th>\n",
       "      <th>make</th>\n",
       "      <th>model</th>\n",
       "      <th>year</th>\n",
       "      <th>engine_hp</th>\n",
       "      <th>engine_cylinders</th>\n",
       "      <th>transmission_type</th>\n",
       "      <th>vehicle_style</th>\n",
       "      <th>highway_mpg</th>\n",
       "      <th>city_mpg</th>\n",
       "    </tr>\n",
       "  </thead>\n",
       "  <tbody>\n",
       "    <tr>\n",
       "      <th>5727</th>\n",
       "      <td>Toyota</td>\n",
       "      <td>Highlander Hybrid</td>\n",
       "      <td>2016</td>\n",
       "      <td>280.0</td>\n",
       "      <td>6.0</td>\n",
       "      <td>AUTOMATIC</td>\n",
       "      <td>4dr SUV</td>\n",
       "      <td>28</td>\n",
       "      <td>27</td>\n",
       "    </tr>\n",
       "    <tr>\n",
       "      <th>5814</th>\n",
       "      <td>Chevrolet</td>\n",
       "      <td>Impala Limited</td>\n",
       "      <td>2014</td>\n",
       "      <td>300.0</td>\n",
       "      <td>6.0</td>\n",
       "      <td>AUTOMATIC</td>\n",
       "      <td>Sedan</td>\n",
       "      <td>30</td>\n",
       "      <td>18</td>\n",
       "    </tr>\n",
       "    <tr>\n",
       "      <th>8450</th>\n",
       "      <td>Buick</td>\n",
       "      <td>Regal</td>\n",
       "      <td>2016</td>\n",
       "      <td>259.0</td>\n",
       "      <td>4.0</td>\n",
       "      <td>AUTOMATIC</td>\n",
       "      <td>Sedan</td>\n",
       "      <td>27</td>\n",
       "      <td>19</td>\n",
       "    </tr>\n",
       "    <tr>\n",
       "      <th>2396</th>\n",
       "      <td>Volkswagen</td>\n",
       "      <td>CC</td>\n",
       "      <td>2015</td>\n",
       "      <td>280.0</td>\n",
       "      <td>6.0</td>\n",
       "      <td>AUTOMATED_MANUAL</td>\n",
       "      <td>Sedan</td>\n",
       "      <td>25</td>\n",
       "      <td>17</td>\n",
       "    </tr>\n",
       "    <tr>\n",
       "      <th>5494</th>\n",
       "      <td>Dodge</td>\n",
       "      <td>Grand Caravan</td>\n",
       "      <td>2016</td>\n",
       "      <td>283.0</td>\n",
       "      <td>6.0</td>\n",
       "      <td>AUTOMATIC</td>\n",
       "      <td>Passenger Minivan</td>\n",
       "      <td>25</td>\n",
       "      <td>17</td>\n",
       "    </tr>\n",
       "  </tbody>\n",
       "</table>\n",
       "</div>"
      ],
      "text/plain": [
       "            make              model  year  engine_hp  engine_cylinders  \\\n",
       "5727      Toyota  Highlander Hybrid  2016      280.0               6.0   \n",
       "5814   Chevrolet     Impala Limited  2014      300.0               6.0   \n",
       "8450       Buick              Regal  2016      259.0               4.0   \n",
       "2396  Volkswagen                 CC  2015      280.0               6.0   \n",
       "5494       Dodge      Grand Caravan  2016      283.0               6.0   \n",
       "\n",
       "     transmission_type      vehicle_style  highway_mpg  city_mpg  \n",
       "5727         AUTOMATIC            4dr SUV           28        27  \n",
       "5814         AUTOMATIC              Sedan           30        18  \n",
       "8450         AUTOMATIC              Sedan           27        19  \n",
       "2396  AUTOMATED_MANUAL              Sedan           25        17  \n",
       "5494         AUTOMATIC  Passenger Minivan           25        17  "
      ]
     },
     "execution_count": 76,
     "metadata": {},
     "output_type": "execute_result"
    }
   ],
   "source": [
    "df_train.head()"
   ]
  },
  {
   "cell_type": "markdown",
   "metadata": {},
   "source": [
    "### Question 1: ROC AUC feature importance\n",
    "\n",
    "ROC AUC could also be used to evaluate feature importance of numerical variables. \n",
    "\n",
    "Let's do that\n",
    "\n",
    "* For each numerical variable, use it as score and compute AUC with the `above_average` variable\n",
    "* Use the training dataset for that\n",
    "\n",
    "\n",
    "If your AUC is < 0.5, invert this variable by putting \"-\" in front\n",
    "\n",
    "(e.g. `-df_train['engine_hp']`)\n",
    "\n",
    "AUC can go below 0.5 if the variable is negatively correlated with the target varialble. You can change the direction of the correlation by negating this variable - then negative correlation becomes positive.\n",
    "\n",
    "Which numerical variable (among the following 4) has the highest AUC?"
   ]
  },
  {
   "cell_type": "code",
   "execution_count": 77,
   "metadata": {},
   "outputs": [
    {
     "name": "stdout",
     "output_type": "stream",
     "text": [
      "Feature: engine_hp -> AUC 0.917\n",
      "Feature: engine_cylinders -> AUC 0.766\n",
      "Feature: highway_mpg -> AUC 0.633\n",
      "Feature: city_mpg -> AUC 0.673\n"
     ]
    }
   ],
   "source": [
    "from sklearn.metrics import roc_auc_score\n",
    "# df_train.dtypes\n",
    "numerical = [\n",
    "    # \"year\", - not including year as although it's a number, \n",
    "    # it's actually a categorical feature\n",
    "    \"engine_hp\",\n",
    "    \"engine_cylinders\",\n",
    "    \"highway_mpg\",\n",
    "    \"city_mpg\",\n",
    "    # \"msrp\",\n",
    "]\n",
    "for feature in numerical:\n",
    "    score = df_train[feature]\n",
    "    auc_below_point_five_by_default = [\n",
    "        \"highway_mpg\",\n",
    "        \"city_mpg\"\n",
    "    ]\n",
    "    if feature in auc_below_point_five_by_default:\n",
    "        score = -df_train[feature]\n",
    "    auc = roc_auc_score(y_train, score)\n",
    "    print(\n",
    "        \"Feature: %s -> AUC %.3f\" % (feature, auc)\n",
    "    )\n",
    "\n",
    "# Highest AUC - for \"engine_hp\"\n"
   ]
  },
  {
   "cell_type": "markdown",
   "metadata": {},
   "source": [
    "### Question 2: Training the model\n",
    "\n",
    "Apply one-hot-encoding using `DictVectorizer` and train the logistic regression with these parameters:\n",
    "\n",
    "```python\n",
    "LogisticRegression(solver='liblinear', C=1.0, max_iter=1000)\n",
    "```\n",
    "\n",
    "What's the AUC of this model on the validation dataset? (round to 3 digits)"
   ]
  },
  {
   "cell_type": "code",
   "execution_count": 78,
   "metadata": {},
   "outputs": [
    {
     "name": "stdout",
     "output_type": "stream",
     "text": [
      "0.980\n"
     ]
    }
   ],
   "source": [
    "from sklearn.linear_model import LogisticRegression\n",
    "from sklearn.feature_extraction import DictVectorizer\n",
    "\n",
    "train_dicts = df_train.to_dict(orient=\"records\")\n",
    "dv = DictVectorizer(sparse=False)\n",
    "X_train = dv.fit_transform(train_dicts)\n",
    "\n",
    "model = LogisticRegression(solver='liblinear', C=1.0, max_iter=1000)\n",
    "model.fit(X_train, y_train)\n",
    "\n",
    "\n",
    "val_dicts = df_val.to_dict(orient=\"records\")\n",
    "X_val = dv.transform(val_dicts)\n",
    "y_pred = model.predict_proba(X_val)[:, 1]\n",
    "\n",
    "auc = roc_auc_score(y_val, y_pred)\n",
    "print(\"%.3f\" % auc)\n",
    "\n",
    "# AUC for the validation dataset on this model is 0.980 (with 4 digits - 0.9797)"
   ]
  },
  {
   "cell_type": "markdown",
   "metadata": {},
   "source": [
    "### Question 3: Precision and Recall\n",
    "\n",
    "Now let's compute precision and recall for our model.\n",
    "\n",
    "* Evaluate the model on all thresholds from 0.0 to 1.0 with step 0.01\n",
    "* For each threshold, compute precision and recall\n",
    "* Plot them\n",
    "\n",
    "At which threshold precision and recall curves intersect?\n"
   ]
  },
  {
   "cell_type": "code",
   "execution_count": 79,
   "metadata": {},
   "outputs": [
    {
     "data": {
      "text/plain": [
       "<matplotlib.legend.Legend at 0x7f6db1c17310>"
      ]
     },
     "execution_count": 79,
     "metadata": {},
     "output_type": "execute_result"
    },
    {
     "data": {
      "image/png": "[encoded data removed]",
      "text/plain": [
       "<Figure size 640x480 with 1 Axes>"
      ]
     },
     "metadata": {},
     "output_type": "display_data"
    }
   ],
   "source": [
    "import matplotlib.pyplot as plt\n",
    "\n",
    "thresholds = np.arange(0.0, 1.01, 0.01)\n",
    "def get_confusion_dataframe(y_val, y_pred, thresholds):\n",
    "    scores = []\n",
    "    precisions = []\n",
    "    recalls = []\n",
    "    actual_positive = (y_val == 1)\n",
    "    actual_negative = (y_val == 0)\n",
    "    for t in thresholds:\n",
    "        predict_positive = (y_pred >= t)\n",
    "        predict_negative = (y_pred < t)\n",
    "\n",
    "        true_negative = (predict_negative & actual_negative).sum()\n",
    "        false_positive = (predict_positive & actual_negative).sum()\n",
    "        false_negative = (predict_negative & actual_positive).sum()\n",
    "        true_positive = (predict_positive & actual_positive).sum()\n",
    "        \n",
    "        scores.append((t, true_positive, false_positive, false_negative, true_negative))\n",
    "    columns = [\"threshold\", \"tp\", \"fp\", \"fn\", \"tn\"]\n",
    "    df_scores = pd.DataFrame(scores, columns=columns)\n",
    "    return df_scores\n",
    "\n",
    "df_scores = get_confusion_dataframe(y_val, y_pred, thresholds)\n",
    "df_scores.columns\n",
    "df_scores[\"p\"] = df_scores[\"tp\"] / (df_scores[\"tp\"] + df_scores.fp)\n",
    "df_scores[\"r\"] = df_scores.tp / (df_scores.tp + df_scores.fn)\n",
    "plt.plot(df_scores.threshold, df_scores.p, label=\"precision\")\n",
    "plt.plot(df_scores.threshold, df_scores.r, label=\"recall\")\n",
    "\n",
    "plt.legend()\n",
    "\n",
    "# The intersection is at around 0.48"
   ]
  },
  {
   "cell_type": "markdown",
   "metadata": {},
   "source": [
    "### Question 4: F1 score\n",
    "\n",
    "Precision and recall are conflicting - when one grows, the other goes down. That's why they are often combined into the F1 score - a metrics that takes into account both\n",
    "\n",
    "This is the formula for computing F1:\n",
    "\n",
    "$$F_1 = 2 \\cdot \\cfrac{P \\cdot R}{P + R}$$\n",
    "\n",
    "Where $P$ is precision and $R$ is recall.\n",
    "\n",
    "Let's compute F1 for all thresholds from 0.0 to 1.0 with increment 0.01\n",
    "\n",
    "At which threshold F1 is maximal?"
   ]
  },
  {
   "cell_type": "code",
   "execution_count": 80,
   "metadata": {},
   "outputs": [
    {
     "name": "stdout",
     "output_type": "stream",
     "text": [
      "49    0.49\n",
      "Name: threshold, dtype: float64\n"
     ]
    },
    {
     "data": {
      "image/png": "[encoded data removed]",
      "text/plain": [
       "<Figure size 640x480 with 1 Axes>"
      ]
     },
     "metadata": {},
     "output_type": "display_data"
    }
   ],
   "source": [
    "df_scores[\"f\"] = 2 * ((df_scores.p * df_scores.r) / (df_scores.p+df_scores.r))\n",
    "plt.plot(thresholds, df_scores.f)\n",
    "\n",
    "max_f_threshold = df_scores[df_scores.f.max() == df_scores.f].threshold\n",
    "print(max_f_threshold)\n",
    "\n",
    "# F1 is maximal at threshold 0.49\n"
   ]
  },
  {
   "cell_type": "markdown",
   "metadata": {},
   "source": [
    "### Question 5: 5-Fold CV\n",
    "\n",
    "\n",
    "Use the `KFold` class from Scikit-Learn to evaluate our model on 5 different folds:\n",
    "\n",
    "```python\n",
    "KFold(n_splits=5, shuffle=True, random_state=1)\n",
    "```\n",
    "\n",
    "* Iterate over different folds of `df_full_train`\n",
    "* Split the data into train and validation\n",
    "* Train the model on train with these parameters: `LogisticRegression(solver='liblinear', C=1.0, max_iter=1000)`\n",
    "* Use AUC to evaluate the model on validation\n",
    "\n",
    "How large is standard devidation of the scores across different folds?"
   ]
  },
  {
   "cell_type": "code",
   "execution_count": 81,
   "metadata": {},
   "outputs": [
    {
     "name": "stdout",
     "output_type": "stream",
     "text": [
      "0.979 += 0.002\n"
     ]
    }
   ],
   "source": [
    "from sklearn.model_selection import KFold\n",
    "kfold = KFold(n_splits=5, shuffle=True, random_state=1)\n",
    "scores = []\n",
    "for train_idx, val_idx in kfold.split(df_full_train):\n",
    "    df_train = df_full_train.iloc[train_idx]\n",
    "    df_val = df_full_train.iloc[val_idx]\n",
    "\n",
    "    y_train = df_train.above_average.values\n",
    "    y_val = df_val.above_average.values\n",
    "\n",
    "    del df_train[\"above_average\"]\n",
    "    del df_val[\"above_average\"]\n",
    "\n",
    "    del df_train[\"msrp\"]\n",
    "    del df_val[\"msrp\"]\n",
    "\n",
    "    train_dicts = df_train.to_dict(orient=\"records\")\n",
    "    dv = DictVectorizer(sparse=False)\n",
    "    X_train = dv.fit_transform(train_dicts)\n",
    "\n",
    "    model = LogisticRegression(solver='liblinear', C=1.0, max_iter=1000)\n",
    "    model.fit(X_train, y_train)\n",
    "\n",
    "    val_dicts = df_val.to_dict(orient=\"records\")\n",
    "    X_val = dv.transform(val_dicts)\n",
    "\n",
    "    y_pred = model.predict_proba(X_val)[:, 1]\n",
    "\n",
    "    auc = roc_auc_score(y_val, y_pred)\n",
    "    scores.append(auc)\n",
    "print(\"%.3f += %.3f\" % (np.mean(scores), np.std(scores)))\n",
    "\n",
    "# Scores standard deviation is 0.002\n"
   ]
  },
  {
   "cell_type": "markdown",
   "metadata": {},
   "source": [
    "### Question 6: Hyperparemeter Tuning\n",
    "\n",
    "Now let's use 5-Fold cross-validation to find the best parameter `C`\n",
    "\n",
    "* Iterate over the following `C` values: `[0.01, 0.1, 0.5, 10]`\n",
    "* Initialize `KFold` with the same parameters as previously\n",
    "* Use these parametes for the model: `LogisticRegression(solver='liblinear', C=C, max_iter=1000)`\n",
    "* Compute the mean score as well as the std (round the mean and std to 3 decimal digits)\n",
    "\n",
    "Which `C` leads to the best mean score?"
   ]
  },
  {
   "cell_type": "code",
   "execution_count": 82,
   "metadata": {},
   "outputs": [
    {
     "name": "stdout",
     "output_type": "stream",
     "text": [
      "0.01 0.952 += 0.003\n",
      "0.1 0.972 += 0.002\n",
      "0.5 0.977 += 0.002\n",
      "10 0.981 += 0.003\n"
     ]
    }
   ],
   "source": [
    "kfold = KFold(n_splits=5, shuffle=True, random_state=1)\n",
    "\n",
    "for C in [0.01, 0.1, 0.5, 10]:\n",
    "    scores = []\n",
    "    for train_idx, val_idx in kfold.split(df_full_train):\n",
    "        df_train = df_full_train.iloc[train_idx]\n",
    "        df_val = df_full_train.iloc[val_idx]\n",
    "\n",
    "        y_train = df_train.above_average.values\n",
    "        y_val = df_val.above_average.values\n",
    "\n",
    "        del df_train[\"above_average\"]\n",
    "        del df_val[\"above_average\"]\n",
    "\n",
    "        del df_train[\"msrp\"]\n",
    "        del df_val[\"msrp\"]\n",
    "\n",
    "        train_dicts = df_train.to_dict(orient=\"records\")\n",
    "        dv = DictVectorizer(sparse=False)\n",
    "        X_train = dv.fit_transform(train_dicts)\n",
    "\n",
    "        model = LogisticRegression(solver='liblinear', C=C, max_iter=1000)\n",
    "        model.fit(X_train, y_train)\n",
    "\n",
    "        val_dicts = df_val.to_dict(orient=\"records\")\n",
    "        X_val = dv.transform(val_dicts)\n",
    "\n",
    "        y_pred = model.predict_proba(X_val)[:, 1]\n",
    "\n",
    "        auc = roc_auc_score(y_val, y_pred)\n",
    "        scores.append(auc)\n",
    "    print(\"%s %.3f += %.3f\" % (C, np.mean(scores), np.std(scores)))\n",
    "\n",
    "# C=10 leads to the best AUC mean score (0.981)"
   ]
  },
  {
   "cell_type": "code",
   "execution_count": null,
   "metadata": {},
   "outputs": [],
   "source": []
  }
 ],
 "metadata": {
  "kernelspec": {
   "display_name": "ml-zoomcamp-9FM8Shbn-py3.10",
   "language": "python",
   "name": "python3"
  },
  "language_info": {
   "codemirror_mode": {
    "name": "ipython",
    "version": 3
   },
   "file_extension": ".py",
   "mimetype": "text/x-python",
   "name": "python",
   "nbconvert_exporter": "python",
   "pygments_lexer": "ipython3",
   "version": "3.10.12"
  },
  "orig_nbformat": 4
 },
 "nbformat": 4,
 "nbformat_minor": 2
}
