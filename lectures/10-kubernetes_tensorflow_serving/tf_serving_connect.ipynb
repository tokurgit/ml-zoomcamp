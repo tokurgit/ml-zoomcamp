{
 "cells": [
  {
   "cell_type": "code",
   "execution_count": 3,
   "metadata": {},
   "outputs": [],
   "source": [
    "import grpc\n",
    "import tensorflow as tf\n",
    "from tensorflow_serving.apis import predict_pb2\n",
    "# Added protobuf==3.20.3 to poetry, as I got same error as in https://github.com/autogluon/autogluon/issues/1725\n",
    "from tensorflow_serving.apis import prediction_service_pb2_grpc"
   ]
  },
  {
   "cell_type": "code",
   "execution_count": 22,
   "metadata": {},
   "outputs": [],
   "source": [
    "host = \"localhost:8500\"\n",
    "\n",
    "# Don' t need secure_channel with auth etc\n",
    "# Because both Gateway and TF-Serving will run in\n",
    "# Kubernetes and TF-Serving will not be accessible from the outside\n",
    "channel = grpc.insecure_channel(host)\n",
    "# prediction_service_pb2 is the TF-Serving component\n",
    "stub = prediction_service_pb2_grpc.PredictionServiceStub(channel)"
   ]
  },
  {
   "cell_type": "code",
   "execution_count": 23,
   "metadata": {},
   "outputs": [],
   "source": [
    "from keras_image_helper import create_preprocessor"
   ]
  },
  {
   "cell_type": "code",
   "execution_count": 24,
   "metadata": {},
   "outputs": [],
   "source": [
    "preprocessor = create_preprocessor(\"xception\", target_size=(299, 299))"
   ]
  },
  {
   "cell_type": "code",
   "execution_count": 25,
   "metadata": {},
   "outputs": [],
   "source": [
    "url = \"http://bit.ly/mlbookcamp-pants\"\n",
    "\n",
    "X = preprocessor.from_url(url)"
   ]
  },
  {
   "cell_type": "code",
   "execution_count": 26,
   "metadata": {},
   "outputs": [],
   "source": [
    "### Need to prepare the X for PB (protobuf) request\n",
    "def np_to_protobuf(data):\n",
    "    return tf.make_tensor_proto(data, shape=data.shape)"
   ]
  },
  {
   "cell_type": "code",
   "execution_count": 27,
   "metadata": {},
   "outputs": [],
   "source": [
    "pb_request = predict_pb2.PredictRequest()\n",
    "pb_request.model_spec.name = \"clothing-model\"\n",
    "pb_request.model_spec.signature_name = \"serving_default\"\n",
    "pb_request.inputs[\"input_8\"].CopyFrom(np_to_protobuf(X))"
   ]
  },
  {
   "cell_type": "code",
   "execution_count": 28,
   "metadata": {},
   "outputs": [],
   "source": [
    "pb_response = stub.Predict(pb_request, timeout=20.0)"
   ]
  },
  {
   "cell_type": "code",
   "execution_count": 29,
   "metadata": {},
   "outputs": [
    {
     "data": {
      "text/plain": [
       "[-1.8798645734786987, -4.756311893463135, -2.3595337867736816, -1.0892643928527832, 9.90378475189209, -2.826181411743164, -3.648310899734497, 3.241156816482544, -2.612095832824707, -4.852035999298096]"
      ]
     },
     "execution_count": 29,
     "metadata": {},
     "output_type": "execute_result"
    }
   ],
   "source": [
    "# To extract predictions\n",
    "pb_response.outputs[\"dense_7\"].float_val"
   ]
  },
  {
   "cell_type": "code",
   "execution_count": 30,
   "metadata": {},
   "outputs": [
    {
     "data": {
      "text/plain": [
       "{'dress': -1.8798645734786987,\n",
       " 'hat': -4.756311893463135,\n",
       " 'longsleeve': -2.3595337867736816,\n",
       " 'outwear': -1.0892643928527832,\n",
       " 'pants': 9.90378475189209,\n",
       " 'shirt': -2.826181411743164,\n",
       " 'shoes': -3.648310899734497,\n",
       " 'shorts': 3.241156816482544,\n",
       " 'skirt': -2.612095832824707,\n",
       " 't-shirt': -4.852035999298096}"
      ]
     },
     "execution_count": 30,
     "metadata": {},
     "output_type": "execute_result"
    }
   ],
   "source": [
    "classes = [\n",
    "    'dress',\n",
    "    'hat',\n",
    "    'longsleeve',\n",
    "    'outwear',\n",
    "    'pants',\n",
    "    'shirt',\n",
    "    'shoes',\n",
    "    'shorts',\n",
    "    'skirt',\n",
    "    't-shirt'\n",
    "]\n",
    "\n",
    "dict(zip(\n",
    "    classes,\n",
    "    pb_response.outputs[\"dense_7\"].float_val\n",
    "))"
   ]
  },
  {
   "cell_type": "code",
   "execution_count": null,
   "metadata": {},
   "outputs": [],
   "source": []
  }
 ],
 "metadata": {
  "kernelspec": {
   "display_name": "ml-zoomcamp-9FM8Shbn-py3.10",
   "language": "python",
   "name": "python3"
  },
  "language_info": {
   "codemirror_mode": {
    "name": "ipython",
    "version": 3
   },
   "file_extension": ".py",
   "mimetype": "text/x-python",
   "name": "python",
   "nbconvert_exporter": "python",
   "pygments_lexer": "ipython3",
   "version": "3.10.12"
  }
 },
 "nbformat": 4,
 "nbformat_minor": 2
}
