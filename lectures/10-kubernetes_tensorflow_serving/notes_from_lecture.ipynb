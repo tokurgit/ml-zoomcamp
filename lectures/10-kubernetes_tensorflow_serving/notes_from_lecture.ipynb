{
 "cells": [
  {
   "cell_type": "markdown",
   "metadata": {},
   "source": [
    "# Kubernetes & Tensorflow Serving for Image Classification\n",
    "\n",
    "- Two tier architecture\n",
    "- TF-Serving - GPU intensive, C++\n",
    "- Gateway\n",
    "  - process user input from website, input to TF-Serving\n",
    "  - process gRPC from TF Serving and output predictions in a valid format for the website"
   ]
  },
  {
   "cell_type": "code",
   "execution_count": 4,
   "metadata": {},
   "outputs": [],
   "source": [
    "# !wget https://github.com/DataTalksClub/machine-learning-zoomcamp/releases/download/chapter7-model/xception_v4_large_08_0.894.h5 -O clothing-model.h5"
   ]
  },
  {
   "cell_type": "code",
   "execution_count": 7,
   "metadata": {},
   "outputs": [],
   "source": [
    "# Convert the h5 to the format \"saved_model\"\n",
    "import tensorflow as tf\n",
    "from tensorflow import keras\n",
    "model = keras.models.load_model(\"clothing-model-v4.h5\")"
   ]
  },
  {
   "cell_type": "code",
   "execution_count": 8,
   "metadata": {},
   "outputs": [
    {
     "name": "stdout",
     "output_type": "stream",
     "text": [
      "INFO:tensorflow:Assets written to: clothing-model/assets\n"
     ]
    },
    {
     "name": "stderr",
     "output_type": "stream",
     "text": [
      "INFO:tensorflow:Assets written to: clothing-model/assets\n"
     ]
    }
   ],
   "source": [
    "# Model and folder in shihc the model will be saved\n",
    "tf.saved_model.save(model, \"clothing-model\")"
   ]
  },
  {
   "cell_type": "markdown",
   "metadata": {},
   "source": [
    "### Check the saved_model signature definition\n",
    "- `saved_model_cli show --dir clothing-model --all`\n",
    "\n",
    "```bash\n",
    "signature_def['serving_default']:\n",
    "  The given SavedModel SignatureDef contains the following input(s):\n",
    "    inputs['input_8'] tensor_info:\n",
    "        dtype: DT_FLOAT\n",
    "        shape: (-1, 299, 299, 3)\n",
    "        name: serving_default_input_8:0\n",
    "  The given SavedModel SignatureDef contains the following output(s):\n",
    "    outputs['dense_7'] tensor_info:\n",
    "        dtype: DT_FLOAT\n",
    "        shape: (-1, 10)\n",
    "        name: StatefulPartitionedCall:0\n",
    "  Method name is: tensorflow/serving/predict\n",
    "```\n",
    "- inputs.shape\n",
    "  - `-1` - can take as arbitrarily many images\n",
    "  - `299, 299, 3` - shape of a single image\n",
    "- outputs.shape\n",
    "  - `-1` - can be many outputs\n",
    "  - `10` - single output shape\n",
    "- summary of model description\n",
    "  - `serving_default`\n",
    "  - `input_8` - input\n",
    "  - `dense_7` - output"
   ]
  },
  {
   "cell_type": "markdown",
   "metadata": {},
   "source": [
    "### Can run TF-Serving locally now that these values are known\n",
    "- Inject local folder with the model (`clothing-model` folder), into the Docker container where TF-Serving is running, using mounting Docker volumes (-v)\n",
    "- Essentially maps folder from host machine to the container, similar syntax as with ports - `<host>:<container>`\n",
    "- Need to add env variable with `MODEL_NAME` (should be same as the folder name in container to which the local folder is moounted) \n",
    "-  \n",
    "```bash\n",
    "docker run -it --rm \\\n",
    " -p 8500:8500 \\\n",
    " -v \"./clothing-model:/models/clothing-model/1\" \\\n",
    " -e MODEL_NAME=\"clothing-model\" \\\n",
    " tensorflow/serving:2.7.0\n",
    "```\n",
    "- Testing in Notebook `tf_serving_connect`"
   ]
  },
  {
   "cell_type": "markdown",
   "metadata": {},
   "source": [
    "## 10.3 Creating a pre-processing service _aka_ Gateway\n",
    "- Converting the notebook to a Python script\n",
    "- Wrapping the script into a Flask app\n",
    "- Getting rid of the Tensorflow dep with `tensorflow-protobuf` - see file `proto.py`, as we're only using one function and the lib is too huge"
   ]
  },
  {
   "cell_type": "markdown",
   "metadata": {},
   "source": []
  },
  {
   "cell_type": "code",
   "execution_count": null,
   "metadata": {},
   "outputs": [],
   "source": []
  }
 ],
 "metadata": {
  "kernelspec": {
   "display_name": "ml-zoomcamp-9FM8Shbn-py3.10",
   "language": "python",
   "name": "python3"
  },
  "language_info": {
   "codemirror_mode": {
    "name": "ipython",
    "version": 3
   },
   "file_extension": ".py",
   "mimetype": "text/x-python",
   "name": "python",
   "nbconvert_exporter": "python",
   "pygments_lexer": "ipython3",
   "version": "3.10.12"
  }
 },
 "nbformat": 4,
 "nbformat_minor": 2
}
