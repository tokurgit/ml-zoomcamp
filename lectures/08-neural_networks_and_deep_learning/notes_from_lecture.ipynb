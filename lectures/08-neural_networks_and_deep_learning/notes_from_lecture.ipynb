{
 "cells": [
  {
   "cell_type": "code",
   "execution_count": 52,
   "metadata": {
    "execution": {
     "iopub.execute_input": "2023-11-12T21:05:43.951024Z",
     "iopub.status.busy": "2023-11-12T21:05:43.950586Z",
     "iopub.status.idle": "2023-11-12T21:05:43.957570Z",
     "shell.execute_reply": "2023-11-12T21:05:43.955485Z",
     "shell.execute_reply.started": "2023-11-12T21:05:43.950998Z"
    },
    "tags": []
   },
   "outputs": [
    {
     "name": "stdout",
     "output_type": "stream",
     "text": [
      "The history saving thread hit an unexpected error (OperationalError('database or disk is full')).History will not be written to the database.\n"
     ]
    }
   ],
   "source": [
    "import matplotlib.pyplot as plt\n",
    "import numpy as np\n",
    "\n",
    "%matplotlib inline"
   ]
  },
  {
   "cell_type": "code",
   "execution_count": 53,
   "metadata": {
    "execution": {
     "iopub.execute_input": "2023-11-12T21:05:45.095878Z",
     "iopub.status.busy": "2023-11-12T21:05:45.095484Z",
     "iopub.status.idle": "2023-11-12T21:05:45.099305Z",
     "shell.execute_reply": "2023-11-12T21:05:45.098432Z",
     "shell.execute_reply.started": "2023-11-12T21:05:45.095852Z"
    },
    "tags": []
   },
   "outputs": [],
   "source": [
    "import tensorflow as tf\n",
    "from tensorflow import keras"
   ]
  },
  {
   "cell_type": "code",
   "execution_count": 3,
   "metadata": {
    "execution": {
     "iopub.execute_input": "2023-11-12T20:14:53.623723Z",
     "iopub.status.busy": "2023-11-12T20:14:53.623337Z",
     "iopub.status.idle": "2023-11-12T20:14:53.627050Z",
     "shell.execute_reply": "2023-11-12T20:14:53.626442Z",
     "shell.execute_reply.started": "2023-11-12T20:14:53.623702Z"
    }
   },
   "outputs": [],
   "source": [
    "# use dataset from https://github.com/alexeygrigorev/clothing-dataset-small in project root"
   ]
  },
  {
   "cell_type": "markdown",
   "metadata": {},
   "source": [
    "## 8.2 TensorFlow and Keras"
   ]
  },
  {
   "cell_type": "code",
   "execution_count": 4,
   "metadata": {
    "execution": {
     "iopub.execute_input": "2023-11-12T20:14:53.628072Z",
     "iopub.status.busy": "2023-11-12T20:14:53.627827Z",
     "iopub.status.idle": "2023-11-12T20:14:53.645806Z",
     "shell.execute_reply": "2023-11-12T20:14:53.645220Z",
     "shell.execute_reply.started": "2023-11-12T20:14:53.628053Z"
    }
   },
   "outputs": [],
   "source": [
    "from tensorflow.keras.preprocessing.image import load_img"
   ]
  },
  {
   "cell_type": "code",
   "execution_count": 59,
   "metadata": {
    "execution": {
     "iopub.execute_input": "2023-11-12T21:08:14.787125Z",
     "iopub.status.busy": "2023-11-12T21:08:14.786727Z",
     "iopub.status.idle": "2023-11-12T21:08:14.797765Z",
     "shell.execute_reply": "2023-11-12T21:08:14.797021Z",
     "shell.execute_reply.started": "2023-11-12T21:08:14.787100Z"
    },
    "tags": []
   },
   "outputs": [
    {
     "name": "stdout",
     "output_type": "stream",
     "text": [
      "(299, 299, 3)\n",
      "[[[179 171  99]\n",
      "  [179 171  99]\n",
      "  [181 173 101]\n",
      "  ...\n",
      "  [251 253 248]\n",
      "  [251 253 248]\n",
      "  [251 253 248]]\n",
      "\n",
      " [[188 179 110]\n",
      "  [187 178 109]\n",
      "  [186 177 108]\n",
      "  ...\n",
      "  [251 252 247]\n",
      "  [251 252 247]\n",
      "  [251 252 246]]\n",
      "\n",
      " [[199 189 127]\n",
      "  [200 190 128]\n",
      "  [200 190 128]\n",
      "  ...\n",
      "  [250 251 245]\n",
      "  [250 251 245]\n",
      "  [250 251 245]]\n",
      "\n",
      " ...\n",
      "\n",
      " [[165 151  76]\n",
      "  [173 159  84]\n",
      "  [171 157  82]\n",
      "  ...\n",
      "  [183 135  24]\n",
      "  [181 133  22]\n",
      "  [183 135  24]]\n",
      "\n",
      " [[165 151  76]\n",
      "  [173 159  84]\n",
      "  [171 157  82]\n",
      "  ...\n",
      "  [182 134  23]\n",
      "  [180 132  21]\n",
      "  [182 134  23]]\n",
      "\n",
      " [[165 151  76]\n",
      "  [173 159  84]\n",
      "  [171 157  82]\n",
      "  ...\n",
      "  [181 133  22]\n",
      "  [179 131  20]\n",
      "  [182 134  23]]]\n"
     ]
    }
   ],
   "source": [
    "file_path = \"../../clothing-dataset-small/train/t-shirt/5f0a3fa0-6a3d-4b68-b213-72766a643de7.jpg\"\n",
    "# Neural network expects image of certain size (usually 299^2, 224^2 or 150^2)\n",
    "img = load_img(file_path, target_size=(299, 299))\n",
    "# Uses PIL\n",
    "# IMG consists is an array that has 3 channels (R, G, B) - each channel contains a representation of pixels with the appropriate value from this channel\n",
    "# Images are encoded internally - array of image size and 3 channels - e.g. (150, 150, 3)\n",
    "# Can transform PIL image into Numpy array, where each row is a pixel - [[[177 169  97], and we have 15 of them\n",
    "x = np.array(img)\n",
    "print(x.shape)\n",
    "print(x)"
   ]
  },
  {
   "cell_type": "markdown",
   "metadata": {},
   "source": [
    "## 8.3 Pre-trained convolutional neural networks\n",
    "- Imagenet dataset: https://www.image-net.org/\n",
    "- Pre-trained models: https://keras.io/api/applications/\n",
    "- Using SaturnCloud for running models in cloud - with GPU"
   ]
  },
  {
   "cell_type": "code",
   "execution_count": 6,
   "metadata": {
    "execution": {
     "iopub.execute_input": "2023-11-12T20:14:53.662248Z",
     "iopub.status.busy": "2023-11-12T20:14:53.661543Z",
     "iopub.status.idle": "2023-11-12T20:14:53.667230Z",
     "shell.execute_reply": "2023-11-12T20:14:53.666167Z",
     "shell.execute_reply.started": "2023-11-12T20:14:53.662218Z"
    }
   },
   "outputs": [],
   "source": [
    "from tensorflow.keras.applications.xception import (\n",
    "    Xception,\n",
    "    decode_predictions,\n",
    "    preprocess_input,\n",
    ")"
   ]
  },
  {
   "cell_type": "code",
   "execution_count": 7,
   "metadata": {
    "execution": {
     "iopub.execute_input": "2023-11-12T20:14:53.668398Z",
     "iopub.status.busy": "2023-11-12T20:14:53.668077Z",
     "iopub.status.idle": "2023-11-12T20:14:55.765254Z",
     "shell.execute_reply": "2023-11-12T20:14:55.764469Z",
     "shell.execute_reply.started": "2023-11-12T20:14:53.668377Z"
    }
   },
   "outputs": [
    {
     "name": "stderr",
     "output_type": "stream",
     "text": [
      "2023-11-12 20:14:53.748207: I tensorflow/stream_executor/cuda/cuda_gpu_executor.cc:975] successful NUMA node read from SysFS had negative value (-1), but there must be at least one NUMA node, so returning NUMA node zero\n",
      "2023-11-12 20:14:53.768304: I tensorflow/stream_executor/cuda/cuda_gpu_executor.cc:975] successful NUMA node read from SysFS had negative value (-1), but there must be at least one NUMA node, so returning NUMA node zero\n",
      "2023-11-12 20:14:53.768643: I tensorflow/stream_executor/cuda/cuda_gpu_executor.cc:975] successful NUMA node read from SysFS had negative value (-1), but there must be at least one NUMA node, so returning NUMA node zero\n",
      "2023-11-12 20:14:53.769189: I tensorflow/core/platform/cpu_feature_guard.cc:193] This TensorFlow binary is optimized with oneAPI Deep Neural Network Library (oneDNN) to use the following CPU instructions in performance-critical operations:  AVX2 AVX512F AVX512_VNNI FMA\n",
      "To enable them in other operations, rebuild TensorFlow with the appropriate compiler flags.\n",
      "2023-11-12 20:14:53.769628: I tensorflow/stream_executor/cuda/cuda_gpu_executor.cc:975] successful NUMA node read from SysFS had negative value (-1), but there must be at least one NUMA node, so returning NUMA node zero\n",
      "2023-11-12 20:14:53.769906: I tensorflow/stream_executor/cuda/cuda_gpu_executor.cc:975] successful NUMA node read from SysFS had negative value (-1), but there must be at least one NUMA node, so returning NUMA node zero\n",
      "2023-11-12 20:14:53.770116: I tensorflow/stream_executor/cuda/cuda_gpu_executor.cc:975] successful NUMA node read from SysFS had negative value (-1), but there must be at least one NUMA node, so returning NUMA node zero\n",
      "2023-11-12 20:14:54.473816: I tensorflow/stream_executor/cuda/cuda_gpu_executor.cc:975] successful NUMA node read from SysFS had negative value (-1), but there must be at least one NUMA node, so returning NUMA node zero\n",
      "2023-11-12 20:14:54.474094: I tensorflow/stream_executor/cuda/cuda_gpu_executor.cc:975] successful NUMA node read from SysFS had negative value (-1), but there must be at least one NUMA node, so returning NUMA node zero\n",
      "2023-11-12 20:14:54.474304: I tensorflow/stream_executor/cuda/cuda_gpu_executor.cc:975] successful NUMA node read from SysFS had negative value (-1), but there must be at least one NUMA node, so returning NUMA node zero\n",
      "2023-11-12 20:14:54.474473: I tensorflow/core/common_runtime/gpu/gpu_device.cc:1532] Created device /job:localhost/replica:0/task:0/device:GPU:0 with 13794 MB memory:  -> device: 0, name: Tesla T4, pci bus id: 0000:00:1e.0, compute capability: 7.5\n"
     ]
    }
   ],
   "source": [
    "model = Xception(weights=\"imagenet\", input_shape=(299, 299, 3))"
   ]
  },
  {
   "cell_type": "code",
   "execution_count": 8,
   "metadata": {
    "execution": {
     "iopub.execute_input": "2023-11-12T20:14:55.766498Z",
     "iopub.status.busy": "2023-11-12T20:14:55.766194Z",
     "iopub.status.idle": "2023-11-12T20:14:55.772174Z",
     "shell.execute_reply": "2023-11-12T20:14:55.771432Z",
     "shell.execute_reply.started": "2023-11-12T20:14:55.766476Z"
    }
   },
   "outputs": [
    {
     "data": {
      "text/plain": [
       "(1, 299, 299, 3)"
      ]
     },
     "execution_count": 8,
     "metadata": {},
     "output_type": "execute_result"
    }
   ],
   "source": [
    "X = np.array([x])\n",
    "X.shape"
   ]
  },
  {
   "cell_type": "code",
   "execution_count": 9,
   "metadata": {
    "execution": {
     "iopub.execute_input": "2023-11-12T20:14:55.774064Z",
     "iopub.status.busy": "2023-11-12T20:14:55.773317Z",
     "iopub.status.idle": "2023-11-12T20:14:55.779995Z",
     "shell.execute_reply": "2023-11-12T20:14:55.779354Z",
     "shell.execute_reply.started": "2023-11-12T20:14:55.774043Z"
    }
   },
   "outputs": [
    {
     "data": {
      "text/plain": [
       "array([[[ 0.4039216 ,  0.3411765 , -0.2235294 ],\n",
       "        [ 0.4039216 ,  0.3411765 , -0.2235294 ],\n",
       "        [ 0.41960788,  0.35686278, -0.20784312],\n",
       "        ...,\n",
       "        [ 0.96862745,  0.9843137 ,  0.94509804],\n",
       "        [ 0.96862745,  0.9843137 ,  0.94509804],\n",
       "        [ 0.96862745,  0.9843137 ,  0.94509804]],\n",
       "\n",
       "       [[ 0.47450984,  0.4039216 , -0.1372549 ],\n",
       "        [ 0.4666667 ,  0.39607847, -0.14509803],\n",
       "        [ 0.45882356,  0.38823533, -0.15294117],\n",
       "        ...,\n",
       "        [ 0.96862745,  0.9764706 ,  0.9372549 ],\n",
       "        [ 0.96862745,  0.9764706 ,  0.9372549 ],\n",
       "        [ 0.96862745,  0.9764706 ,  0.92941177]],\n",
       "\n",
       "       [[ 0.56078434,  0.48235297, -0.00392157],\n",
       "        [ 0.5686275 ,  0.4901961 ,  0.00392163],\n",
       "        [ 0.5686275 ,  0.4901961 ,  0.00392163],\n",
       "        ...,\n",
       "        [ 0.9607843 ,  0.96862745,  0.92156863],\n",
       "        [ 0.9607843 ,  0.96862745,  0.92156863],\n",
       "        [ 0.9607843 ,  0.96862745,  0.92156863]],\n",
       "\n",
       "       ...,\n",
       "\n",
       "       [[ 0.2941177 ,  0.18431377, -0.40392154],\n",
       "        [ 0.35686278,  0.24705887, -0.34117645],\n",
       "        [ 0.3411765 ,  0.2313726 , -0.35686272],\n",
       "        ...,\n",
       "        [ 0.43529415,  0.05882359, -0.8117647 ],\n",
       "        [ 0.41960788,  0.04313731, -0.827451  ],\n",
       "        [ 0.43529415,  0.05882359, -0.8117647 ]],\n",
       "\n",
       "       [[ 0.2941177 ,  0.18431377, -0.40392154],\n",
       "        [ 0.35686278,  0.24705887, -0.34117645],\n",
       "        [ 0.3411765 ,  0.2313726 , -0.35686272],\n",
       "        ...,\n",
       "        [ 0.427451  ,  0.05098045, -0.81960785],\n",
       "        [ 0.41176474,  0.03529418, -0.8352941 ],\n",
       "        [ 0.427451  ,  0.05098045, -0.81960785]],\n",
       "\n",
       "       [[ 0.2941177 ,  0.18431377, -0.40392154],\n",
       "        [ 0.35686278,  0.24705887, -0.34117645],\n",
       "        [ 0.3411765 ,  0.2313726 , -0.35686272],\n",
       "        ...,\n",
       "        [ 0.41960788,  0.04313731, -0.827451  ],\n",
       "        [ 0.4039216 ,  0.02745104, -0.84313726],\n",
       "        [ 0.427451  ,  0.05098045, -0.81960785]]], dtype=float32)"
      ]
     },
     "execution_count": 9,
     "metadata": {},
     "output_type": "execute_result"
    }
   ],
   "source": [
    "# Always need to use `preprocess_input`\n",
    "X = preprocess_input(X)\n",
    "X[0]"
   ]
  },
  {
   "cell_type": "code",
   "execution_count": 10,
   "metadata": {
    "execution": {
     "iopub.execute_input": "2023-11-12T20:14:55.781150Z",
     "iopub.status.busy": "2023-11-12T20:14:55.780844Z",
     "iopub.status.idle": "2023-11-12T20:14:58.440288Z",
     "shell.execute_reply": "2023-11-12T20:14:58.439318Z",
     "shell.execute_reply.started": "2023-11-12T20:14:55.781130Z"
    }
   },
   "outputs": [
    {
     "name": "stderr",
     "output_type": "stream",
     "text": [
      "2023-11-12 20:14:57.132522: I tensorflow/stream_executor/cuda/cuda_dnn.cc:384] Loaded cuDNN version 8100\n",
      "2023-11-12 20:14:57.757149: I tensorflow/core/platform/default/subprocess.cc:304] Start cannot spawn child process: No such file or directory\n",
      "2023-11-12 20:14:57.758062: I tensorflow/core/platform/default/subprocess.cc:304] Start cannot spawn child process: No such file or directory\n",
      "2023-11-12 20:14:57.758101: W tensorflow/stream_executor/gpu/asm_compiler.cc:80] Couldn't get ptxas version string: INTERNAL: Couldn't invoke ptxas --version\n",
      "2023-11-12 20:14:57.759021: I tensorflow/core/platform/default/subprocess.cc:304] Start cannot spawn child process: No such file or directory\n",
      "2023-11-12 20:14:57.759095: W tensorflow/stream_executor/gpu/redzone_allocator.cc:314] INTERNAL: Failed to launch ptxas\n",
      "Relying on driver to perform ptx compilation. \n",
      "Modify $PATH to customize ptxas location.\n",
      "This message will be only logged once.\n"
     ]
    },
    {
     "name": "stdout",
     "output_type": "stream",
     "text": [
      "1/1 [==============================] - 3s 3s/step\n"
     ]
    },
    {
     "data": {
      "text/plain": [
       "(1, 1000)"
      ]
     },
     "execution_count": 10,
     "metadata": {},
     "output_type": "execute_result"
    }
   ],
   "source": [
    "pred = model.predict(X)\n",
    "pred.shape"
   ]
  },
  {
   "cell_type": "code",
   "execution_count": 11,
   "metadata": {
    "execution": {
     "iopub.execute_input": "2023-11-12T20:14:58.442162Z",
     "iopub.status.busy": "2023-11-12T20:14:58.441476Z",
     "iopub.status.idle": "2023-11-12T20:14:58.450793Z",
     "shell.execute_reply": "2023-11-12T20:14:58.450154Z",
     "shell.execute_reply.started": "2023-11-12T20:14:58.442131Z"
    }
   },
   "outputs": [
    {
     "data": {
      "text/plain": [
       "[[('n03595614', 'jersey', 0.6792451),\n",
       "  ('n02916936', 'bulletproof_vest', 0.03960026),\n",
       "  ('n04370456', 'sweatshirt', 0.035299566),\n",
       "  ('n03710637', 'maillot', 0.010884127),\n",
       "  ('n04525038', 'velvet', 0.0018057587)]]"
      ]
     },
     "execution_count": 11,
     "metadata": {},
     "output_type": "execute_result"
    }
   ],
   "source": [
    "decode_predictions(pred)"
   ]
  },
  {
   "cell_type": "markdown",
   "metadata": {},
   "source": [
    "## 8.4. Convolutional neural networks\n",
    "- Types of layers\n",
    "- Convolutional layers and filters\n",
    "- Dense layers\n",
    "- Mostly used for images\n",
    "  \n",
    "There are more layers, read: https://cs231n.github.io\n",
    "\n",
    "\n",
    "1. Convolutional (role - extract vector representation of the image)\n",
    "   Consists of filters, small images,e.g. 5x5. Contains simple shapes, lines.\n",
    "   Everytime the filters i applied we slide the filter across the image - and calculate similarity between the filter and the image. - We get Feature map where highher value in a \"cell\" means higher similarity with the filter.\n",
    "   Input - image, output - feature maps (one for each filter).\n",
    "   Ouptut of 1st convolutional layer is a set of feature map. \n",
    "   Then we use this as an image to the 2nd convolutional layer.\n",
    "   .. could be more convolutional layers and each chained actions (layer , filters, feature maps) learns more complex filters.\n",
    "\n",
    "   Filters are \"learned\" during training.\n",
    "   e.g. 3 layers\n",
    "   1st layer learns simple filters (e.g. simple shapes)\n",
    "   2nd layer learns more complex shapes (by combining filters from previous layers)\n",
    "   3rd layer learns even more complex shapes\n",
    "   Finaly, there's a vectore representation that' s ready to be used in dense layer\n",
    "2. Dense layers (role - make final prediction)\n",
    "   Dense - because each elem of input connects to each elem of output.\n",
    "   So it's essentially matrix multiplication\n",
    "   E.g. if we want to predict if image is a t-shirt, dress or jeans, we could use Logistic regression.\n",
    "   Multiplicating the iumage vector values xi with the specific class weights wj.\n",
    "   Possible to combine multiple dense layers\n",
    "\n",
    "* Pooling layer \n",
    "  Takes feature map that one of Convolutional layers learned and it makes it smaller. Forcing it to have fewer parameters.\n",
    "  E.g. if feature map os 200x200, after pooling it could be 100x100.\n",
    "\n"
   ]
  },
  {
   "cell_type": "markdown",
   "metadata": {},
   "source": [
    "## 8.5. Transfer learning\n",
    "- Reading data with ImageDataGenerator\n",
    "- Train `Xception` on smaller images (150x150)\n",
    "- Better run this on GPU (using Saturn Cloud)\n",
    "\n",
    "\n",
    "- Transforming Image to Vector and learning the filters is quite generic, no need to change that\n",
    "- Specific to the ImageNet dataset  - dense layers\n",
    "- So we keep the convolutional layers but train new dense layers (the idea behind transfer learning)\n"
   ]
  },
  {
   "cell_type": "code",
   "execution_count": 12,
   "metadata": {
    "execution": {
     "iopub.execute_input": "2023-11-12T20:14:58.452738Z",
     "iopub.status.busy": "2023-11-12T20:14:58.451909Z",
     "iopub.status.idle": "2023-11-12T20:14:58.455709Z",
     "shell.execute_reply": "2023-11-12T20:14:58.455005Z",
     "shell.execute_reply.started": "2023-11-12T20:14:58.452716Z"
    }
   },
   "outputs": [],
   "source": [
    "from tensorflow.keras.preprocessing.image import ImageDataGenerator"
   ]
  },
  {
   "cell_type": "code",
   "execution_count": 13,
   "metadata": {
    "execution": {
     "iopub.execute_input": "2023-11-12T20:14:58.457164Z",
     "iopub.status.busy": "2023-11-12T20:14:58.456807Z",
     "iopub.status.idle": "2023-11-12T20:14:58.461096Z",
     "shell.execute_reply": "2023-11-12T20:14:58.460287Z",
     "shell.execute_reply.started": "2023-11-12T20:14:58.457134Z"
    }
   },
   "outputs": [],
   "source": [
    "train_gen = ImageDataGenerator(preprocessing_function=preprocess_input)"
   ]
  },
  {
   "cell_type": "code",
   "execution_count": 14,
   "metadata": {
    "execution": {
     "iopub.execute_input": "2023-11-12T20:14:58.463878Z",
     "iopub.status.busy": "2023-11-12T20:14:58.463630Z",
     "iopub.status.idle": "2023-11-12T20:14:58.577285Z",
     "shell.execute_reply": "2023-11-12T20:14:58.576548Z",
     "shell.execute_reply.started": "2023-11-12T20:14:58.463859Z"
    }
   },
   "outputs": [
    {
     "name": "stdout",
     "output_type": "stream",
     "text": [
      "Found 3068 images belonging to 10 classes.\n"
     ]
    }
   ],
   "source": [
    "train_ds = train_gen.flow_from_directory(\n",
    "    \"../../clothing-dataset-small/train\",\n",
    "    target_size=(150, 150),\n",
    "    batch_size=32,\n",
    ")"
   ]
  },
  {
   "cell_type": "code",
   "execution_count": 15,
   "metadata": {
    "execution": {
     "iopub.execute_input": "2023-11-12T20:14:58.578787Z",
     "iopub.status.busy": "2023-11-12T20:14:58.578377Z",
     "iopub.status.idle": "2023-11-12T20:14:59.424659Z",
     "shell.execute_reply": "2023-11-12T20:14:59.423500Z",
     "shell.execute_reply.started": "2023-11-12T20:14:58.578752Z"
    }
   },
   "outputs": [
    {
     "name": "stdout",
     "output_type": "stream",
     "text": [
      "total 248\n",
      "drwxr-sr-x 2 jovyan jovyan 20480 Nov 12 20:12 dress\n",
      "drwxr-sr-x 2 jovyan jovyan 12288 Nov 12 20:12 hat\n",
      "drwxr-sr-x 2 jovyan jovyan 36864 Nov 12 20:12 longsleeve\n",
      "drwxr-sr-x 2 jovyan jovyan 20480 Nov 12 20:12 outwear\n",
      "drwxr-sr-x 2 jovyan jovyan 36864 Nov 12 20:12 pants\n",
      "drwxr-sr-x 2 jovyan jovyan 20480 Nov 12 20:12 shirt\n",
      "drwxr-sr-x 2 jovyan jovyan 20480 Nov 12 20:12 shoes\n",
      "drwxr-sr-x 2 jovyan jovyan 20480 Nov 12 20:12 shorts\n",
      "drwxr-sr-x 2 jovyan jovyan 12288 Nov 12 20:12 skirt\n",
      "drwxr-sr-x 2 jovyan jovyan 53248 Nov 12 20:12 t-shirt\n"
     ]
    }
   ],
   "source": [
    "!ls -l ../../clothing-dataset-small/train"
   ]
  },
  {
   "cell_type": "code",
   "execution_count": 16,
   "metadata": {
    "execution": {
     "iopub.execute_input": "2023-11-12T20:14:59.427156Z",
     "iopub.status.busy": "2023-11-12T20:14:59.426594Z",
     "iopub.status.idle": "2023-11-12T20:14:59.433422Z",
     "shell.execute_reply": "2023-11-12T20:14:59.432637Z",
     "shell.execute_reply.started": "2023-11-12T20:14:59.427119Z"
    },
    "tags": []
   },
   "outputs": [
    {
     "data": {
      "text/plain": [
       "{'dress': 0,\n",
       " 'hat': 1,\n",
       " 'longsleeve': 2,\n",
       " 'outwear': 3,\n",
       " 'pants': 4,\n",
       " 'shirt': 5,\n",
       " 'shoes': 6,\n",
       " 'shorts': 7,\n",
       " 'skirt': 8,\n",
       " 't-shirt': 9}"
      ]
     },
     "execution_count": 16,
     "metadata": {},
     "output_type": "execute_result"
    }
   ],
   "source": [
    "# class names are inferred from folder names\n",
    "#  e.g. everything inside t-shirt folder was put under 't-shirt' class\n",
    "train_ds.class_indices"
   ]
  },
  {
   "cell_type": "code",
   "execution_count": 17,
   "metadata": {
    "execution": {
     "iopub.execute_input": "2023-11-12T20:14:59.435331Z",
     "iopub.status.busy": "2023-11-12T20:14:59.434595Z",
     "iopub.status.idle": "2023-11-12T20:14:59.551203Z",
     "shell.execute_reply": "2023-11-12T20:14:59.550579Z",
     "shell.execute_reply.started": "2023-11-12T20:14:59.435299Z"
    },
    "tags": []
   },
   "outputs": [],
   "source": [
    "X, y = next(train_ds)"
   ]
  },
  {
   "cell_type": "code",
   "execution_count": 18,
   "metadata": {
    "execution": {
     "iopub.execute_input": "2023-11-12T20:14:59.552689Z",
     "iopub.status.busy": "2023-11-12T20:14:59.552294Z",
     "iopub.status.idle": "2023-11-12T20:14:59.558821Z",
     "shell.execute_reply": "2023-11-12T20:14:59.558199Z",
     "shell.execute_reply.started": "2023-11-12T20:14:59.552656Z"
    }
   },
   "outputs": [
    {
     "data": {
      "text/plain": [
       "array([[0., 0., 0., 0., 0., 0., 0., 0., 0., 1.],\n",
       "       [0., 0., 0., 0., 1., 0., 0., 0., 0., 0.],\n",
       "       [0., 1., 0., 0., 0., 0., 0., 0., 0., 0.],\n",
       "       [0., 0., 1., 0., 0., 0., 0., 0., 0., 0.],\n",
       "       [0., 0., 0., 0., 1., 0., 0., 0., 0., 0.]], dtype=float32)"
      ]
     },
     "execution_count": 18,
     "metadata": {},
     "output_type": "execute_result"
    }
   ],
   "source": [
    "y[\n",
    "    :5\n",
    "]  # E.g. last column represents t-shirt, using one-hot encoding for multiclass classification"
   ]
  },
  {
   "cell_type": "code",
   "execution_count": 19,
   "metadata": {
    "execution": {
     "iopub.execute_input": "2023-11-12T20:14:59.559969Z",
     "iopub.status.busy": "2023-11-12T20:14:59.559688Z",
     "iopub.status.idle": "2023-11-12T20:14:59.580913Z",
     "shell.execute_reply": "2023-11-12T20:14:59.580138Z",
     "shell.execute_reply.started": "2023-11-12T20:14:59.559949Z"
    }
   },
   "outputs": [
    {
     "name": "stdout",
     "output_type": "stream",
     "text": [
      "Found 341 images belonging to 10 classes.\n"
     ]
    }
   ],
   "source": [
    "val_gen = ImageDataGenerator(preprocessing_function=preprocess_input)\n",
    "val_ds = val_gen.flow_from_directory(\n",
    "    \"../../clothing-dataset-small/validation\",\n",
    "    target_size=(150, 150),\n",
    "    batch_size=32,\n",
    "    shuffle=False,\n",
    ")"
   ]
  },
  {
   "cell_type": "code",
   "execution_count": 20,
   "metadata": {
    "execution": {
     "iopub.execute_input": "2023-11-12T20:14:59.582174Z",
     "iopub.status.busy": "2023-11-12T20:14:59.581872Z",
     "iopub.status.idle": "2023-11-12T20:15:00.792119Z",
     "shell.execute_reply": "2023-11-12T20:15:00.791280Z",
     "shell.execute_reply.started": "2023-11-12T20:14:59.582146Z"
    }
   },
   "outputs": [],
   "source": [
    "# base model will be the convolutional layer\n",
    "# we will train custom model on top of that\n",
    "## include_top=False - in Keras mentally arrange the visual represenation of deep learning from bottom to top,\n",
    "# where bottom - convolutional layer and top - dense layer and prediction\n",
    "base_model = Xception(\n",
    "    weights=\"imagenet\",\n",
    "    include_top=False,\n",
    "    input_shape=(150, 150, 3),\n",
    ")\n",
    "\n",
    "# trainable = False - meaning when we train our model, we don't want to change convolutional layers\n",
    "base_model.trainable = False"
   ]
  },
  {
   "cell_type": "code",
   "execution_count": 21,
   "metadata": {
    "execution": {
     "iopub.execute_input": "2023-11-12T20:15:00.794217Z",
     "iopub.status.busy": "2023-11-12T20:15:00.793891Z",
     "iopub.status.idle": "2023-11-12T20:15:02.264593Z",
     "shell.execute_reply": "2023-11-12T20:15:02.263860Z",
     "shell.execute_reply.started": "2023-11-12T20:15:00.794195Z"
    }
   },
   "outputs": [],
   "source": [
    "# base model will be the convolutional layer\n",
    "# we will train custom model on top of that\n",
    "## include_top=False - in Keras mentally arrange the visual represenation of deep learning from bottom to top,\n",
    "# where bottom - convolutional layer and top - dense layer and prediction\n",
    "base_model = Xception(\n",
    "    weights=\"imagenet\",\n",
    "    include_top=False,\n",
    "    input_shape=(150, 150, 3),\n",
    ")\n",
    "\n",
    "# trainable = False, together with training=False  - meaning when we train our model, we don't want to change convolutional layers\n",
    "base_model.trainable = False\n",
    "\n",
    "\n",
    "## Creating a new top\n",
    "\n",
    "inputs = keras.Input(shape=(150, 150, 3))\n",
    "\n",
    "# Not enough to provide trainable=False\n",
    "base = base_model(inputs, training=False)\n",
    "\n",
    "# Averages out a single filter (5x5) to a single value ,so we can get a vector repr of an image\n",
    "vectors = keras.layers.GlobalAveragePooling2D()(base)\n",
    "\n",
    "# Dimensionality is 10, because we have 10 classes\n",
    "outputs = keras.layers.Dense(10)(vectors)\n",
    "\n",
    "model = keras.Model(inputs, outputs)"
   ]
  },
  {
   "cell_type": "code",
   "execution_count": 22,
   "metadata": {
    "execution": {
     "iopub.execute_input": "2023-11-12T20:15:02.266434Z",
     "iopub.status.busy": "2023-11-12T20:15:02.265708Z",
     "iopub.status.idle": "2023-11-12T20:15:03.729750Z",
     "shell.execute_reply": "2023-11-12T20:15:03.728740Z",
     "shell.execute_reply.started": "2023-11-12T20:15:02.266408Z"
    }
   },
   "outputs": [
    {
     "name": "stdout",
     "output_type": "stream",
     "text": [
      "1/1 [==============================] - 1s 1s/step\n"
     ]
    },
    {
     "data": {
      "text/plain": [
       "(32, 10)"
      ]
     },
     "execution_count": 22,
     "metadata": {},
     "output_type": "execute_result"
    }
   ],
   "source": [
    "preds = model.predict(X)\n",
    "preds.shape"
   ]
  },
  {
   "cell_type": "code",
   "execution_count": 23,
   "metadata": {
    "execution": {
     "iopub.execute_input": "2023-11-12T20:15:03.733200Z",
     "iopub.status.busy": "2023-11-12T20:15:03.732929Z",
     "iopub.status.idle": "2023-11-12T20:15:03.737652Z",
     "shell.execute_reply": "2023-11-12T20:15:03.736871Z",
     "shell.execute_reply.started": "2023-11-12T20:15:03.733177Z"
    }
   },
   "outputs": [],
   "source": [
    "# optimizer - calculates weights by checking whether chaneg in wiegth leads to better outcome (by evaluating 'loss')\n",
    "# there are different optimizers\n",
    "\n",
    "learning_rate = 0.01\n",
    "optimizer = keras.optimizers.Adam(learning_rate=learning_rate)\n",
    "\n",
    "loss = keras.losses.CategoricalCrossentropy(from_logits=True)"
   ]
  },
  {
   "cell_type": "code",
   "execution_count": 27,
   "metadata": {
    "execution": {
     "iopub.execute_input": "2023-11-12T20:15:28.849583Z",
     "iopub.status.busy": "2023-11-12T20:15:28.849209Z",
     "iopub.status.idle": "2023-11-12T20:15:28.859647Z",
     "shell.execute_reply": "2023-11-12T20:15:28.859024Z",
     "shell.execute_reply.started": "2023-11-12T20:15:28.849557Z"
    },
    "tags": []
   },
   "outputs": [],
   "source": [
    "model.compile(optimizer=optimizer, loss=loss, metrics=[\"accuracy\"])"
   ]
  },
  {
   "cell_type": "code",
   "execution_count": 28,
   "metadata": {
    "execution": {
     "iopub.execute_input": "2023-11-12T20:15:45.707328Z",
     "iopub.status.busy": "2023-11-12T20:15:45.706940Z",
     "iopub.status.idle": "2023-11-12T20:17:52.303185Z",
     "shell.execute_reply": "2023-11-12T20:17:52.302489Z",
     "shell.execute_reply.started": "2023-11-12T20:15:45.707305Z"
    },
    "tags": []
   },
   "outputs": [
    {
     "name": "stdout",
     "output_type": "stream",
     "text": [
      "Epoch 1/10\n",
      "96/96 [==============================] - 16s 149ms/step - loss: 1.1730 - accuracy: 0.6692 - val_loss: 1.2814 - val_accuracy: 0.6804\n",
      "Epoch 2/10\n",
      "96/96 [==============================] - 12s 126ms/step - loss: 0.5949 - accuracy: 0.8142 - val_loss: 0.8695 - val_accuracy: 0.7801\n",
      "Epoch 3/10\n",
      "96/96 [==============================] - 12s 127ms/step - loss: 0.3839 - accuracy: 0.8752 - val_loss: 0.8471 - val_accuracy: 0.7947\n",
      "Epoch 4/10\n",
      "96/96 [==============================] - 12s 127ms/step - loss: 0.2240 - accuracy: 0.9192 - val_loss: 0.9470 - val_accuracy: 0.7742\n",
      "Epoch 5/10\n",
      "96/96 [==============================] - 12s 128ms/step - loss: 0.1595 - accuracy: 0.9446 - val_loss: 0.8502 - val_accuracy: 0.7977\n",
      "Epoch 6/10\n",
      "96/96 [==============================] - 12s 126ms/step - loss: 0.1594 - accuracy: 0.9439 - val_loss: 0.9423 - val_accuracy: 0.7742\n",
      "Epoch 7/10\n",
      "96/96 [==============================] - 12s 127ms/step - loss: 0.0875 - accuracy: 0.9694 - val_loss: 0.9670 - val_accuracy: 0.8006\n",
      "Epoch 8/10\n",
      "96/96 [==============================] - 12s 128ms/step - loss: 0.0611 - accuracy: 0.9817 - val_loss: 1.0045 - val_accuracy: 0.7947\n",
      "Epoch 9/10\n",
      "96/96 [==============================] - 12s 126ms/step - loss: 0.0456 - accuracy: 0.9883 - val_loss: 0.9289 - val_accuracy: 0.8152\n",
      "Epoch 10/10\n",
      "96/96 [==============================] - 12s 127ms/step - loss: 0.0276 - accuracy: 0.9948 - val_loss: 0.8770 - val_accuracy: 0.8240\n"
     ]
    }
   ],
   "source": [
    "history = model.fit(train_ds, epochs=10, validation_data=val_ds)"
   ]
  },
  {
   "cell_type": "markdown",
   "metadata": {
    "tags": []
   },
   "source": [
    "## 8.6. Adjusting the learning rate\n",
    "- what' s the learning rate\n",
    "- trying different values\n"
   ]
  },
  {
   "cell_type": "code",
   "execution_count": 29,
   "metadata": {
    "execution": {
     "iopub.execute_input": "2023-11-12T20:19:28.412346Z",
     "iopub.status.busy": "2023-11-12T20:19:28.411967Z",
     "iopub.status.idle": "2023-11-12T20:19:28.418371Z",
     "shell.execute_reply": "2023-11-12T20:19:28.417685Z",
     "shell.execute_reply.started": "2023-11-12T20:19:28.412320Z"
    },
    "tags": []
   },
   "outputs": [],
   "source": [
    "def make_model(learning_rate=0.01):\n",
    "    base_model = Xception(\n",
    "        weights=\"imagenet\",\n",
    "        include_top=False,\n",
    "        input_shape=(150, 150, 3),\n",
    "    )\n",
    "\n",
    "    # trainable = False, together with training=False  - meaning when we train our model, we don't want to change convolutional layers\n",
    "    base_model.trainable = False\n",
    "\n",
    "\n",
    "    ## Creating a new top\n",
    "    ############################################\n",
    "    # Create architecture\n",
    "    inputs = keras.Input(shape=(150, 150, 3))\n",
    "    # Not enough to provide trainable=False\n",
    "    base = base_model(inputs, training=False)\n",
    "    # Averages out a single filter (5x5) to a single value ,so we can get a vector repr of an image\n",
    "    vectors = keras.layers.GlobalAveragePooling2D()(base)\n",
    "    # Dimensionality is 10, because we have 10 classes\n",
    "    outputs = keras.layers.Dense(10)(vectors)\n",
    "    model = keras.Model(inputs, outputs)\n",
    "\n",
    "    ############################################\n",
    "    \n",
    "    optimizer = keras.optimizers.Adam(learning_rate=learning_rate)\n",
    "    loss = keras.losses.CategoricalCrossentropy(from_logits=True)\n",
    "    model.compile(optimizer=optimizer, loss=loss, metrics=[\"accuracy\"])    \n",
    "    \n",
    "    return model"
   ]
  },
  {
   "cell_type": "code",
   "execution_count": 30,
   "metadata": {
    "execution": {
     "iopub.execute_input": "2023-11-12T20:21:44.463115Z",
     "iopub.status.busy": "2023-11-12T20:21:44.462725Z",
     "iopub.status.idle": "2023-11-12T20:25:16.953977Z",
     "shell.execute_reply": "2023-11-12T20:25:16.953149Z",
     "shell.execute_reply.started": "2023-11-12T20:21:44.463090Z"
    },
    "tags": []
   },
   "outputs": [
    {
     "name": "stdout",
     "output_type": "stream",
     "text": [
      "0.0001\n",
      "Epoch 1/4\n",
      "96/96 [==============================] - 15s 135ms/step - loss: 1.9938 - accuracy: 0.3396 - val_loss: 1.6383 - val_accuracy: 0.4751\n",
      "Epoch 2/4\n",
      "96/96 [==============================] - 12s 126ms/step - loss: 1.4304 - accuracy: 0.5486 - val_loss: 1.2739 - val_accuracy: 0.6129\n",
      "Epoch 3/4\n",
      "96/96 [==============================] - 12s 126ms/step - loss: 1.1743 - accuracy: 0.6219 - val_loss: 1.0842 - val_accuracy: 0.6774\n",
      "Epoch 4/4\n",
      "96/96 [==============================] - 12s 126ms/step - loss: 1.0247 - accuracy: 0.6747 - val_loss: 0.9670 - val_accuracy: 0.7155\n",
      "\n",
      "\n",
      "0.001\n",
      "Epoch 1/4\n",
      "96/96 [==============================] - 15s 136ms/step - loss: 1.0660 - accuracy: 0.6457 - val_loss: 0.7295 - val_accuracy: 0.7742\n",
      "Epoch 2/4\n",
      "96/96 [==============================] - 12s 126ms/step - loss: 0.6332 - accuracy: 0.7862 - val_loss: 0.6176 - val_accuracy: 0.8152\n",
      "Epoch 3/4\n",
      "96/96 [==============================] - 12s 127ms/step - loss: 0.5013 - accuracy: 0.8321 - val_loss: 0.5926 - val_accuracy: 0.8211\n",
      "Epoch 4/4\n",
      "96/96 [==============================] - 12s 126ms/step - loss: 0.4279 - accuracy: 0.8625 - val_loss: 0.5578 - val_accuracy: 0.8240\n",
      "\n",
      "\n",
      "0.01\n",
      "Epoch 1/4\n",
      "96/96 [==============================] - 15s 135ms/step - loss: 1.2680 - accuracy: 0.6630 - val_loss: 0.8327 - val_accuracy: 0.7947\n",
      "Epoch 2/4\n",
      "96/96 [==============================] - 12s 126ms/step - loss: 0.5127 - accuracy: 0.8406 - val_loss: 0.8299 - val_accuracy: 0.7977\n",
      "Epoch 3/4\n",
      "96/96 [==============================] - 12s 125ms/step - loss: 0.3467 - accuracy: 0.8882 - val_loss: 0.8721 - val_accuracy: 0.8006\n",
      "Epoch 4/4\n",
      "96/96 [==============================] - 12s 126ms/step - loss: 0.3548 - accuracy: 0.8908 - val_loss: 1.0965 - val_accuracy: 0.7830\n",
      "\n",
      "\n",
      "0.1\n",
      "Epoch 1/4\n",
      "96/96 [==============================] - 15s 134ms/step - loss: 10.5669 - accuracy: 0.6349 - val_loss: 7.8814 - val_accuracy: 0.7038\n",
      "Epoch 2/4\n",
      "96/96 [==============================] - 12s 126ms/step - loss: 4.7977 - accuracy: 0.7823 - val_loss: 9.1299 - val_accuracy: 0.7038\n",
      "Epoch 3/4\n",
      "96/96 [==============================] - 12s 126ms/step - loss: 3.6012 - accuracy: 0.8305 - val_loss: 7.5895 - val_accuracy: 0.7947\n",
      "Epoch 4/4\n",
      "96/96 [==============================] - 12s 128ms/step - loss: 3.2875 - accuracy: 0.8514 - val_loss: 11.4469 - val_accuracy: 0.7185\n",
      "\n",
      "\n"
     ]
    }
   ],
   "source": [
    "scores = {}\n",
    "\n",
    "for lr in [0.0001, 0.001, 0.01, 0.1]:\n",
    "    print(lr)\n",
    "    model = make_model(learning_rate=lr)\n",
    "    history = model.fit(train_ds, epochs=4, validation_data=val_ds)\n",
    "    scores[lr] = history.history\n",
    "    print()\n",
    "    print()    "
   ]
  },
  {
   "cell_type": "code",
   "execution_count": 37,
   "metadata": {
    "execution": {
     "iopub.execute_input": "2023-11-12T20:29:23.177974Z",
     "iopub.status.busy": "2023-11-12T20:29:23.177572Z",
     "iopub.status.idle": "2023-11-12T20:29:23.302609Z",
     "shell.execute_reply": "2023-11-12T20:29:23.301855Z",
     "shell.execute_reply.started": "2023-11-12T20:29:23.177950Z"
    },
    "tags": []
   },
   "outputs": [
    {
     "data": {
      "text/plain": [
       "<matplotlib.legend.Legend at 0x7f990be1f1c0>"
      ]
     },
     "execution_count": 37,
     "metadata": {},
     "output_type": "execute_result"
    },
    {
     "data": {
      "image/png": "[encoded data removed]",
      "text/plain": [
       "<Figure size 640x480 with 1 Axes>"
      ]
     },
     "metadata": {},
     "output_type": "display_data"
    }
   ],
   "source": [
    "for lr, hist in scores.items():\n",
    "    plt.plot(hist[\"val_accuracy\"], label=lr)\n",
    "plt.xticks(np.arange(5))\n",
    "plt.legend()"
   ]
  },
  {
   "cell_type": "code",
   "execution_count": 38,
   "metadata": {
    "execution": {
     "iopub.execute_input": "2023-11-12T20:30:31.736938Z",
     "iopub.status.busy": "2023-11-12T20:30:31.736518Z",
     "iopub.status.idle": "2023-11-12T20:30:31.740305Z",
     "shell.execute_reply": "2023-11-12T20:30:31.739613Z",
     "shell.execute_reply.started": "2023-11-12T20:30:31.736914Z"
    },
    "tags": []
   },
   "outputs": [],
   "source": [
    "del scores[0.0001]\n",
    "del scores[0.1]"
   ]
  },
  {
   "cell_type": "code",
   "execution_count": 39,
   "metadata": {
    "execution": {
     "iopub.execute_input": "2023-11-12T20:30:37.564039Z",
     "iopub.status.busy": "2023-11-12T20:30:37.563648Z",
     "iopub.status.idle": "2023-11-12T20:30:37.670897Z",
     "shell.execute_reply": "2023-11-12T20:30:37.670130Z",
     "shell.execute_reply.started": "2023-11-12T20:30:37.564014Z"
    },
    "tags": []
   },
   "outputs": [
    {
     "data": {
      "text/plain": [
       "<matplotlib.legend.Legend at 0x7f98e059e5e0>"
      ]
     },
     "execution_count": 39,
     "metadata": {},
     "output_type": "execute_result"
    },
    {
     "data": {
      "image/png": "[encoded data removed]",
      "text/plain": [
       "<Figure size 640x480 with 1 Axes>"
      ]
     },
     "metadata": {},
     "output_type": "display_data"
    }
   ],
   "source": [
    "for lr, hist in scores.items():\n",
    "    plt.plot(hist[\"val_accuracy\"], label=lr)\n",
    "plt.xticks(np.arange(5))\n",
    "plt.legend()"
   ]
  },
  {
   "cell_type": "code",
   "execution_count": null,
   "metadata": {},
   "outputs": [],
   "source": [
    "# best learning rate 0.001\n",
    "learning_rate = 0.001"
   ]
  },
  {
   "cell_type": "markdown",
   "metadata": {
    "tags": []
   },
   "source": [
    "## 8.7. Checkpointing\n",
    "- saving the best model only\n",
    "- training a model with callbacks\n"
   ]
  },
  {
   "cell_type": "code",
   "execution_count": 41,
   "metadata": {
    "execution": {
     "iopub.execute_input": "2023-11-12T20:34:35.815163Z",
     "iopub.status.busy": "2023-11-12T20:34:35.814474Z",
     "iopub.status.idle": "2023-11-12T20:34:36.038004Z",
     "shell.execute_reply": "2023-11-12T20:34:36.037114Z",
     "shell.execute_reply.started": "2023-11-12T20:34:35.815134Z"
    },
    "tags": []
   },
   "outputs": [],
   "source": [
    "# h5 - keras type of bin file to save weights\n",
    "model.save_weights(\"model_v1.h5\", save_format=\"h5\")\n"
   ]
  },
  {
   "cell_type": "code",
   "execution_count": 45,
   "metadata": {
    "execution": {
     "iopub.execute_input": "2023-11-12T20:42:31.995347Z",
     "iopub.status.busy": "2023-11-12T20:42:31.995053Z",
     "iopub.status.idle": "2023-11-12T20:42:31.999010Z",
     "shell.execute_reply": "2023-11-12T20:42:31.998372Z",
     "shell.execute_reply.started": "2023-11-12T20:42:31.995325Z"
    },
    "tags": []
   },
   "outputs": [],
   "source": [
    "# mode=max because we want the accuracy to be as high as posible\n",
    "# if we would evaluate loss - we would want for it to be as low as possible\n",
    "checkpoint = keras.callbacks.ModelCheckpoint(\n",
    "    \"xception_v1_{epoch:02d}_{val_accuracy:.3f}.h5\",\n",
    "    monitor=\"val_accuracy\",\n",
    "    save_best_only=True,\n",
    "    mode=\"max\"\n",
    ")\n",
    "    "
   ]
  },
  {
   "cell_type": "code",
   "execution_count": 47,
   "metadata": {
    "execution": {
     "iopub.execute_input": "2023-11-12T20:44:14.913253Z",
     "iopub.status.busy": "2023-11-12T20:44:14.912902Z",
     "iopub.status.idle": "2023-11-12T20:46:29.117390Z",
     "shell.execute_reply": "2023-11-12T20:46:29.116556Z",
     "shell.execute_reply.started": "2023-11-12T20:44:14.913230Z"
    },
    "tags": []
   },
   "outputs": [
    {
     "name": "stdout",
     "output_type": "stream",
     "text": [
      "Epoch 1/10\n",
      "96/96 [==============================] - 16s 147ms/step - loss: 1.2606 - accuracy: 0.6763 - val_loss: 0.9133 - val_accuracy: 0.7566\n",
      "Epoch 2/10\n",
      "96/96 [==============================] - 13s 136ms/step - loss: 0.5684 - accuracy: 0.8217 - val_loss: 0.7906 - val_accuracy: 0.8035\n",
      "Epoch 3/10\n",
      "96/96 [==============================] - 13s 133ms/step - loss: 0.3250 - accuracy: 0.8862 - val_loss: 0.8400 - val_accuracy: 0.7859\n",
      "Epoch 4/10\n",
      "96/96 [==============================] - 13s 137ms/step - loss: 0.2422 - accuracy: 0.9153 - val_loss: 0.8165 - val_accuracy: 0.8065\n",
      "Epoch 5/10\n",
      "96/96 [==============================] - 13s 133ms/step - loss: 0.1587 - accuracy: 0.9413 - val_loss: 0.8000 - val_accuracy: 0.8006\n",
      "Epoch 6/10\n",
      "96/96 [==============================] - 13s 136ms/step - loss: 0.1191 - accuracy: 0.9576 - val_loss: 0.8228 - val_accuracy: 0.8240\n",
      "Epoch 7/10\n",
      "96/96 [==============================] - 13s 132ms/step - loss: 0.0635 - accuracy: 0.9817 - val_loss: 0.8583 - val_accuracy: 0.8035\n",
      "Epoch 8/10\n",
      "96/96 [==============================] - 13s 134ms/step - loss: 0.0392 - accuracy: 0.9919 - val_loss: 0.8522 - val_accuracy: 0.8035\n",
      "Epoch 9/10\n",
      "96/96 [==============================] - 13s 132ms/step - loss: 0.0295 - accuracy: 0.9971 - val_loss: 0.8139 - val_accuracy: 0.8035\n",
      "Epoch 10/10\n",
      "96/96 [==============================] - 13s 133ms/step - loss: 0.0334 - accuracy: 0.9932 - val_loss: 0.9469 - val_accuracy: 0.8006\n"
     ]
    }
   ],
   "source": [
    "learning_rate = 0.001 \n",
    "\n",
    "model = make_model(learning_rate=lr)\n",
    "history = model.fit(\n",
    "    train_ds,\n",
    "    epochs=10,\n",
    "    validation_data=val_ds,\n",
    "    callbacks=[checkpoint],\n",
    ")"
   ]
  },
  {
   "cell_type": "markdown",
   "metadata": {
    "tags": []
   },
   "source": [
    "## 8.8. Adding more layers\n",
    "- adding one inner dense layer\n",
    "- experimenting with different sizes of inner layer\n",
    "- activation - some form of postprocessing of the output vector\n",
    "- need to use acivation fucntion for intermediate inner layers (we have laready used other acivation functions - sigmoid, softmwax)"
   ]
  },
  {
   "cell_type": "code",
   "execution_count": 48,
   "metadata": {
    "execution": {
     "iopub.execute_input": "2023-11-12T21:01:36.282201Z",
     "iopub.status.busy": "2023-11-12T21:01:36.281786Z",
     "iopub.status.idle": "2023-11-12T21:01:36.288999Z",
     "shell.execute_reply": "2023-11-12T21:01:36.288111Z",
     "shell.execute_reply.started": "2023-11-12T21:01:36.282175Z"
    },
    "tags": []
   },
   "outputs": [],
   "source": [
    "def make_model(learning_rate=0.01, size_inner=100):\n",
    "    base_model = Xception(\n",
    "        weights=\"imagenet\",\n",
    "        include_top=False,\n",
    "        input_shape=(150, 150, 3),\n",
    "    )\n",
    "\n",
    "    # trainable = False, together with training=False  - meaning when we train our model, we don't want to change convolutional layers\n",
    "    base_model.trainable = False\n",
    "\n",
    "\n",
    "    ## Creating a new top\n",
    "    ############################################\n",
    "    # Create architecture\n",
    "    inputs = keras.Input(shape=(150, 150, 3))\n",
    "    # Not enough to provide trainable=False\n",
    "    base = base_model(inputs, training=False)\n",
    "    # Averages out a single filter (5x5) to a single value ,so we can get a vector repr of an image\n",
    "    vectors = keras.layers.GlobalAveragePooling2D()(base)\n",
    "    \n",
    "    inner = keras.layers.Dense(size_inner, activation=\"relu\")(vectors)\n",
    "    outputs = keras.layers.Dense(10)(vectors)\n",
    "    model = keras.Model(inputs, outputs)\n",
    "\n",
    "    ############################################\n",
    "    \n",
    "    optimizer = keras.optimizers.Adam(learning_rate=learning_rate)\n",
    "    loss = keras.losses.CategoricalCrossentropy(from_logits=True)\n",
    "    model.compile(optimizer=optimizer, loss=loss, metrics=[\"accuracy\"])    \n",
    "    \n",
    "    return model"
   ]
  },
  {
   "cell_type": "code",
   "execution_count": 60,
   "metadata": {
    "execution": {
     "iopub.execute_input": "2023-11-12T21:08:18.485246Z",
     "iopub.status.busy": "2023-11-12T21:08:18.484940Z",
     "iopub.status.idle": "2023-11-12T21:15:00.958435Z",
     "shell.execute_reply": "2023-11-12T21:15:00.957566Z",
     "shell.execute_reply.started": "2023-11-12T21:08:18.485224Z"
    },
    "tags": []
   },
   "outputs": [
    {
     "name": "stdout",
     "output_type": "stream",
     "text": [
      "10\n",
      "Epoch 1/10\n",
      "96/96 [==============================] - 16s 146ms/step - loss: 1.0821 - accuracy: 0.6379 - val_loss: 0.6873 - val_accuracy: 0.7977\n",
      "Epoch 2/10\n",
      "96/96 [==============================] - 13s 133ms/step - loss: 0.6255 - accuracy: 0.7859 - val_loss: 0.6243 - val_accuracy: 0.7947\n",
      "Epoch 3/10\n",
      "96/96 [==============================] - 13s 133ms/step - loss: 0.5016 - accuracy: 0.8321 - val_loss: 0.5655 - val_accuracy: 0.8240\n",
      "Epoch 4/10\n",
      "96/96 [==============================] - 13s 135ms/step - loss: 0.4259 - accuracy: 0.8625 - val_loss: 0.5714 - val_accuracy: 0.8270\n",
      "Epoch 5/10\n",
      "96/96 [==============================] - 13s 135ms/step - loss: 0.3756 - accuracy: 0.8849 - val_loss: 0.5321 - val_accuracy: 0.8299\n",
      "Epoch 6/10\n",
      "96/96 [==============================] - 13s 134ms/step - loss: 0.3256 - accuracy: 0.9097 - val_loss: 0.5382 - val_accuracy: 0.8240\n",
      "Epoch 7/10\n",
      "96/96 [==============================] - 13s 135ms/step - loss: 0.2884 - accuracy: 0.9231 - val_loss: 0.5211 - val_accuracy: 0.8299\n",
      "Epoch 8/10\n",
      "96/96 [==============================] - 13s 137ms/step - loss: 0.2569 - accuracy: 0.9364 - val_loss: 0.5304 - val_accuracy: 0.8123\n",
      "Epoch 9/10\n",
      "96/96 [==============================] - 13s 136ms/step - loss: 0.2327 - accuracy: 0.9400 - val_loss: 0.5291 - val_accuracy: 0.8270\n",
      "Epoch 10/10\n",
      "96/96 [==============================] - 13s 135ms/step - loss: 0.2089 - accuracy: 0.9537 - val_loss: 0.5346 - val_accuracy: 0.8182\n",
      "\n",
      "\n",
      "100\n",
      "Epoch 1/10\n",
      "96/96 [==============================] - 17s 149ms/step - loss: 1.1191 - accuracy: 0.6219 - val_loss: 0.7084 - val_accuracy: 0.7859\n",
      "Epoch 2/10\n",
      "96/96 [==============================] - 13s 137ms/step - loss: 0.6296 - accuracy: 0.7839 - val_loss: 0.6260 - val_accuracy: 0.7947\n",
      "Epoch 3/10\n",
      "96/96 [==============================] - 13s 135ms/step - loss: 0.5098 - accuracy: 0.8318 - val_loss: 0.5762 - val_accuracy: 0.8035\n",
      "Epoch 4/10\n",
      "96/96 [==============================] - 13s 133ms/step - loss: 0.4278 - accuracy: 0.8641 - val_loss: 0.5730 - val_accuracy: 0.8065\n",
      "Epoch 5/10\n",
      "96/96 [==============================] - 13s 135ms/step - loss: 0.3701 - accuracy: 0.8875 - val_loss: 0.5319 - val_accuracy: 0.8211\n",
      "Epoch 6/10\n",
      "96/96 [==============================] - 13s 133ms/step - loss: 0.3290 - accuracy: 0.9051 - val_loss: 0.5286 - val_accuracy: 0.8240\n",
      "Epoch 7/10\n",
      "96/96 [==============================] - 13s 134ms/step - loss: 0.2866 - accuracy: 0.9254 - val_loss: 0.5148 - val_accuracy: 0.8299\n",
      "Epoch 8/10\n",
      "96/96 [==============================] - 13s 134ms/step - loss: 0.2554 - accuracy: 0.9371 - val_loss: 0.5163 - val_accuracy: 0.8240\n",
      "Epoch 9/10\n",
      "96/96 [==============================] - 13s 132ms/step - loss: 0.2305 - accuracy: 0.9443 - val_loss: 0.5246 - val_accuracy: 0.8240\n",
      "Epoch 10/10\n",
      "96/96 [==============================] - 13s 133ms/step - loss: 0.2096 - accuracy: 0.9544 - val_loss: 0.5337 - val_accuracy: 0.8152\n",
      "\n",
      "\n",
      "1000\n",
      "Epoch 1/10\n",
      "96/96 [==============================] - 16s 141ms/step - loss: 1.0917 - accuracy: 0.6301 - val_loss: 0.7253 - val_accuracy: 0.7566\n",
      "Epoch 2/10\n",
      "96/96 [==============================] - 13s 132ms/step - loss: 0.6303 - accuracy: 0.7829 - val_loss: 0.6328 - val_accuracy: 0.7977\n",
      "Epoch 3/10\n",
      "96/96 [==============================] - 13s 133ms/step - loss: 0.5064 - accuracy: 0.8357 - val_loss: 0.6060 - val_accuracy: 0.7947\n",
      "Epoch 4/10\n",
      "96/96 [==============================] - 13s 133ms/step - loss: 0.4324 - accuracy: 0.8654 - val_loss: 0.5920 - val_accuracy: 0.8123\n",
      "Epoch 5/10\n",
      "96/96 [==============================] - 13s 133ms/step - loss: 0.3735 - accuracy: 0.8849 - val_loss: 0.5662 - val_accuracy: 0.8152\n",
      "Epoch 6/10\n",
      "96/96 [==============================] - 13s 133ms/step - loss: 0.3288 - accuracy: 0.9068 - val_loss: 0.5409 - val_accuracy: 0.8182\n",
      "Epoch 7/10\n",
      "96/96 [==============================] - 13s 133ms/step - loss: 0.2891 - accuracy: 0.9221 - val_loss: 0.5604 - val_accuracy: 0.8152\n",
      "Epoch 8/10\n",
      "96/96 [==============================] - 13s 133ms/step - loss: 0.2686 - accuracy: 0.9270 - val_loss: 0.5506 - val_accuracy: 0.8065\n",
      "Epoch 9/10\n",
      "96/96 [==============================] - 13s 134ms/step - loss: 0.2333 - accuracy: 0.9433 - val_loss: 0.5638 - val_accuracy: 0.8270\n",
      "Epoch 10/10\n",
      "96/96 [==============================] - 13s 133ms/step - loss: 0.2136 - accuracy: 0.9524 - val_loss: 0.5391 - val_accuracy: 0.8211\n",
      "\n",
      "\n"
     ]
    }
   ],
   "source": [
    "learning_rate = 0.001 \n",
    "scores = {}\n",
    "\n",
    "for lr in [10, 100, 1000]:\n",
    "    print(lr)\n",
    "    model = make_model(learning_rate=learning_rate, size_inner=lr)\n",
    "    history = model.fit(train_ds, epochs=10, validation_data=val_ds)\n",
    "    scores[lr] = history.history\n",
    "    print()\n",
    "    print()    "
   ]
  },
  {
   "cell_type": "code",
   "execution_count": 63,
   "metadata": {
    "execution": {
     "iopub.execute_input": "2023-11-12T21:26:45.169349Z",
     "iopub.status.busy": "2023-11-12T21:26:45.168958Z",
     "iopub.status.idle": "2023-11-12T21:26:45.323054Z",
     "shell.execute_reply": "2023-11-12T21:26:45.322305Z",
     "shell.execute_reply.started": "2023-11-12T21:26:45.169323Z"
    },
    "tags": []
   },
   "outputs": [
    {
     "data": {
      "text/plain": [
       "[]"
      ]
     },
     "execution_count": 63,
     "metadata": {},
     "output_type": "execute_result"
    },
    {
     "data": {
      "image/png": "[encoded data removed]",
      "text/plain": [
       "<Figure size 640x480 with 1 Axes>"
      ]
     },
     "metadata": {},
     "output_type": "display_data"
    }
   ],
   "source": [
    "for size, hist in scores.items():\n",
    "    plt.plot(hist[\"val_accuracy\"], label=(\"val=%s\" % size))\n",
    "plt.xticks(np.arange(10))\n",
    "# plt.yticks([])\n",
    "\n",
    "plt.legend()\n",
    "plt.plot()"
   ]
  },
  {
   "cell_type": "markdown",
   "metadata": {
    "tags": []
   },
   "source": [
    "## 8.9. Regularization and Dropout\n",
    "- Regularizing by freezing a part of the network\n",
    "- Adding dropout to our model\n",
    "- Randomly freeze a part of thenetwork ( inner layer), effectively hiding a part of the input (image) and forcing model to focus on bigger picture\n",
    "- e.g. foxus on recognizing shapenot specific feautre of the image (distinguish t-shirt shape, not a logo on a specific t-shirt)\n",
    "- Experimenting with different values"
   ]
  },
  {
   "cell_type": "code",
   "execution_count": 64,
   "metadata": {
    "execution": {
     "iopub.execute_input": "2023-11-12T21:30:22.802345Z",
     "iopub.status.busy": "2023-11-12T21:30:22.801947Z",
     "iopub.status.idle": "2023-11-12T21:30:22.808767Z",
     "shell.execute_reply": "2023-11-12T21:30:22.808016Z",
     "shell.execute_reply.started": "2023-11-12T21:30:22.802319Z"
    },
    "tags": []
   },
   "outputs": [],
   "source": [
    "def make_model(learning_rate=0.01, size_inner=100, droprate=0.5):\n",
    "    base_model = Xception(\n",
    "        weights=\"imagenet\",\n",
    "        include_top=False,\n",
    "        input_shape=(150, 150, 3),\n",
    "    )\n",
    "\n",
    "    # trainable = False, together with training=False  - meaning when we train our model, we don't want to change convolutional layers\n",
    "    base_model.trainable = False\n",
    "\n",
    "\n",
    "    ## Creating a new top\n",
    "    ############################################\n",
    "    # Create architecture\n",
    "    inputs = keras.Input(shape=(150, 150, 3))\n",
    "    # Not enough to provide trainable=False\n",
    "    base = base_model(inputs, training=False)\n",
    "    # Averages out a single filter (5x5) to a single value ,so we can get a vector repr of an image\n",
    "    vectors = keras.layers.GlobalAveragePooling2D()(base)\n",
    "    \n",
    "    inner = keras.layers.Dense(size_inner, activation=\"relu\")(vectors)\n",
    "    \n",
    "    drop = keras.layers.Dropout(droprate)(inner)\n",
    "    \n",
    "    outputs = keras.layers.Dense(10)(drop)\n",
    "    model = keras.Model(inputs, outputs)\n",
    "\n",
    "    ############################################\n",
    "    \n",
    "    optimizer = keras.optimizers.Adam(learning_rate=learning_rate)\n",
    "    loss = keras.losses.CategoricalCrossentropy(from_logits=True)\n",
    "    model.compile(optimizer=optimizer, loss=loss, metrics=[\"accuracy\"])    \n",
    "    \n",
    "    return model"
   ]
  },
  {
   "cell_type": "code",
   "execution_count": 69,
   "metadata": {
    "execution": {
     "iopub.execute_input": "2023-11-12T22:07:11.437952Z",
     "iopub.status.busy": "2023-11-12T22:07:11.437535Z",
     "iopub.status.idle": "2023-11-12T22:07:11.442039Z",
     "shell.execute_reply": "2023-11-12T22:07:11.440952Z",
     "shell.execute_reply.started": "2023-11-12T22:07:11.437927Z"
    },
    "tags": []
   },
   "outputs": [],
   "source": [
    "learning_rate = 0.001 \n",
    "size_inner = 100\n",
    "\n",
    "scores = {}\n",
    "\n",
    "# for droprate in [0.0, 0.2, 0.5, 0.8]:\n",
    "#     print(droprate)\n",
    "#     model = make_model(learning_rate=learning_rate, size_inner=size_inner, droprate=droprate)\n",
    "#     # need more than 10 epochs because we actively do not allow network to learn by freezing part of the model\n",
    "#     history = model.fit(train_ds, epochs=30, validation_data=val_ds)\n",
    "#     scores[droprate] = history.history\n",
    "#     print()\n",
    "#     print()    "
   ]
  },
  {
   "cell_type": "code",
   "execution_count": 66,
   "metadata": {
    "execution": {
     "iopub.execute_input": "2023-11-12T21:36:02.874056Z",
     "iopub.status.busy": "2023-11-12T21:36:02.873639Z",
     "iopub.status.idle": "2023-11-12T21:36:02.877686Z",
     "shell.execute_reply": "2023-11-12T21:36:02.876766Z",
     "shell.execute_reply.started": "2023-11-12T21:36:02.874030Z"
    },
    "tags": []
   },
   "outputs": [],
   "source": [
    "droprate = 0.2"
   ]
  },
  {
   "cell_type": "markdown",
   "metadata": {
    "tags": []
   },
   "source": [
    "## 8.10. Data Augmentation\n",
    "- generate additonal data from existing data by transforming them\n",
    "- tune data augmentation like a hyperparameter -  train for 10-20 epochs and check -is it better? if better , use it. if worse - dont use it. if around same - test for another 10-20 epochs.\n",
    "For pictures, e.g:\n",
    "- flip vertical, horizontal and both -vertically and horizontally\n",
    "- rotate by several different angles - clockwise and counter-clockwise\n",
    "- shift - height and width - by omitting some top/bottom or side part\n",
    "- shear - skew as if pulling one part of the image\n",
    "- zoom - in or/and out - shrinking or enlarging the original image\n",
    "- brightness\n",
    "- contrast\n",
    "- hide part of image in different place"
   ]
  },
  {
   "cell_type": "code",
   "execution_count": 68,
   "metadata": {
    "execution": {
     "iopub.execute_input": "2023-11-12T21:58:02.375465Z",
     "iopub.status.busy": "2023-11-12T21:58:02.375062Z",
     "iopub.status.idle": "2023-11-12T21:58:02.513476Z",
     "shell.execute_reply": "2023-11-12T21:58:02.512576Z",
     "shell.execute_reply.started": "2023-11-12T21:58:02.375439Z"
    },
    "tags": []
   },
   "outputs": [
    {
     "name": "stdout",
     "output_type": "stream",
     "text": [
      "Found 3068 images belonging to 10 classes.\n",
      "Found 341 images belonging to 10 classes.\n"
     ]
    }
   ],
   "source": [
    "train_gen = ImageDataGenerator(\n",
    "    preprocessing_function=preprocess_input,\n",
    "    shear_range=10,\n",
    "    zoom_range=0.1,\n",
    "    vertical_flip=True,\n",
    ")\n",
    "train_ds = train_gen.flow_from_directory(\n",
    "    \"../../clothing-dataset-small/train\",\n",
    "    target_size=(150, 150),\n",
    "    batch_size=32,\n",
    ")\n",
    "\n",
    "# Validation dataset dont need to apply the transformations\n",
    "val_gen = ImageDataGenerator(preprocessing_function=preprocess_input)\n",
    "val_ds = val_gen.flow_from_directory(\n",
    "    \"../../clothing-dataset-small/validation\",\n",
    "    target_size=(150, 150),\n",
    "    batch_size=32,\n",
    "    shuffle=False,\n",
    ")"
   ]
  },
  {
   "cell_type": "code",
   "execution_count": null,
   "metadata": {},
   "outputs": [],
   "source": [
    "learning_rate = 0.001 \n",
    "size_inner = 100\n",
    "droprate = 0.2\n",
    "\n",
    "scores = {}\n",
    "\n",
    "# model = make_model(\n",
    "#     learning_rate=learning_rate,\n",
    "#     size_inner=size_inner,\n",
    "#     droprate=droprate,\n",
    "# )\n",
    "# need more than 10 epochs because we actively do not allow network to learn by freezing part of the model\n",
    "# history = model.fit(train_ds, epochs=50, validation_data=val_ds)\n",
    "print()\n",
    "print()    "
   ]
  },
  {
   "cell_type": "markdown",
   "metadata": {
    "tags": []
   },
   "source": [
    "## 8.11. Training a larger model\n",
    "- more accurate as img has more details but much longer to train"
   ]
  },
  {
   "cell_type": "code",
   "execution_count": 71,
   "metadata": {
    "execution": {
     "iopub.execute_input": "2023-11-12T22:09:27.276322Z",
     "iopub.status.busy": "2023-11-12T22:09:27.275912Z",
     "iopub.status.idle": "2023-11-12T22:09:27.423827Z",
     "shell.execute_reply": "2023-11-12T22:09:27.423112Z",
     "shell.execute_reply.started": "2023-11-12T22:09:27.276296Z"
    },
    "tags": []
   },
   "outputs": [
    {
     "name": "stdout",
     "output_type": "stream",
     "text": [
      "Found 3068 images belonging to 10 classes.\n",
      "Found 341 images belonging to 10 classes.\n"
     ]
    }
   ],
   "source": [
    "input_size = 299\n",
    "\n",
    "\n",
    "\n",
    "\n",
    "train_gen = ImageDataGenerator(\n",
    "    preprocessing_function=preprocess_input,\n",
    "    shear_range=10,\n",
    "    zoom_range=0.1,\n",
    "    horizontal_flip=True\n",
    ")\n",
    "train_ds = train_gen.flow_from_directory(\n",
    "    \"../../clothing-dataset-small/train\",\n",
    "    target_size=(input_size, input_size),\n",
    "    batch_size=32,\n",
    ")\n",
    "\n",
    "# Validation dataset dont need to apply the transformations\n",
    "val_gen = ImageDataGenerator(preprocessing_function=preprocess_input)\n",
    "val_ds = val_gen.flow_from_directory(\n",
    "    \"../../clothing-dataset-small/validation\",\n",
    "    target_size=(input_size, input_size),\n",
    "    batch_size=32,\n",
    "    shuffle=False,\n",
    ")"
   ]
  },
  {
   "cell_type": "code",
   "execution_count": null,
   "metadata": {},
   "outputs": [],
   "source": [
    "checkpoint = keras.callbacks.ModelCheckpoint(\n",
    "    \"xception_v4_{epoch:02d}_{val_accuracy:.3f}.h5\",\n",
    "    monitor=\"val_accuracy\",\n",
    "    save_best_only=True,\n",
    "    mode=\"max\"\n",
    ")"
   ]
  },
  {
   "cell_type": "code",
   "execution_count": null,
   "metadata": {},
   "outputs": [],
   "source": [
    "def make_model(input_size=150, learning_rate=0.01, size_inner=100, droprate=0.5):\n",
    "    base_model = Xception(\n",
    "        weights=\"imagenet\",\n",
    "        include_top=False,\n",
    "        input_shape=(input_size, input_size, 3),\n",
    "    )\n",
    "\n",
    "    # trainable = False, together with training=False  - meaning when we train our model, we don't want to change convolutional layers\n",
    "    base_model.trainable = False\n",
    "\n",
    "\n",
    "    ## Creating a new top\n",
    "    ############################################\n",
    "    # Create architecture\n",
    "    inputs = keras.Input(shape=(input_size, input_size, 3))\n",
    "    # Not enough to provide trainable=False\n",
    "    base = base_model(inputs, training=False)\n",
    "    # Averages out a single filter (5x5) to a single value ,so we can get a vector repr of an image\n",
    "    vectors = keras.layers.GlobalAveragePooling2D()(base)\n",
    "    \n",
    "    inner = keras.layers.Dense(size_inner, activation=\"relu\")(vectors)\n",
    "    \n",
    "    drop = keras.layers.Dropout(droprate)(inner)\n",
    "    \n",
    "    outputs = keras.layers.Dense(10)(drop)\n",
    "    model = keras.Model(inputs, outputs)\n",
    "\n",
    "    ############################################\n",
    "    \n",
    "    optimizer = keras.optimizers.Adam(learning_rate=learning_rate)\n",
    "    loss = keras.losses.CategoricalCrossentropy(from_logits=True)\n",
    "    model.compile(optimizer=optimizer, loss=loss, metrics=[\"accuracy\"])    \n",
    "    \n",
    "    return model"
   ]
  },
  {
   "cell_type": "code",
   "execution_count": null,
   "metadata": {},
   "outputs": [],
   "source": [
    "learning_rate = 0.001 \n",
    "size_inner = 100\n",
    "droprate = 0.2\n",
    "input_size = 299\n",
    "\n",
    "scores = {}\n",
    "\n",
    "model = make_model(\n",
    "    input_size=input_size,\n",
    "    learning_rate=learning_rate,\n",
    "    size_inner=size_inner,\n",
    "    droprate=droprate,\n",
    "    callbacks=[checkpoint],\n",
    ")\n",
    " "
   ]
  },
  {
   "cell_type": "markdown",
   "metadata": {
    "tags": []
   },
   "source": [
    "## 8.12. Using the model\n",
    "- Loading the model\n",
    "- Evaluating the model\n",
    "- Getting predictions"
   ]
  },
  {
   "cell_type": "code",
   "execution_count": 2,
   "metadata": {
    "execution": {
     "iopub.execute_input": "2023-11-13T15:24:42.440488Z",
     "iopub.status.busy": "2023-11-13T15:24:42.440078Z",
     "iopub.status.idle": "2023-11-13T15:24:42.444261Z",
     "shell.execute_reply": "2023-11-13T15:24:42.443394Z",
     "shell.execute_reply.started": "2023-11-13T15:24:42.440465Z"
    },
    "tags": []
   },
   "outputs": [],
   "source": [
    "import tensorflow as tf\n",
    "from tensorflow import keras"
   ]
  },
  {
   "cell_type": "code",
   "execution_count": 7,
   "metadata": {
    "execution": {
     "iopub.execute_input": "2023-11-13T15:28:18.977915Z",
     "iopub.status.busy": "2023-11-13T15:28:18.977516Z",
     "iopub.status.idle": "2023-11-13T15:28:18.982386Z",
     "shell.execute_reply": "2023-11-13T15:28:18.981470Z",
     "shell.execute_reply.started": "2023-11-13T15:28:18.977887Z"
    },
    "tags": []
   },
   "outputs": [],
   "source": [
    "from tensorflow.keras.preprocessing.image import ImageDataGenerator\n",
    "from tensorflow.keras.preprocessing.image import load_img\n",
    "\n",
    "from tensorflow.keras.applications.xception import preprocess_input"
   ]
  },
  {
   "cell_type": "code",
   "execution_count": null,
   "metadata": {},
   "outputs": [],
   "source": [
    "test_gen = ImageDataGenerator(preprocessing_function=preprocess_input)\n",
    "\n",
    "test_ds = test_gen.flow_from_directory(\n",
    "    './clothing-dataset-small/test',\n",
    "    target_size=(299, 299),\n",
    "    batch_size=32,\n",
    "    shuffle=False\n",
    ")"
   ]
  },
  {
   "cell_type": "code",
   "execution_count": null,
   "metadata": {},
   "outputs": [],
   "source": [
    "model = keras.models.load_model('xception_v4_1_13_0.903.h5')"
   ]
  },
  {
   "cell_type": "code",
   "execution_count": null,
   "metadata": {},
   "outputs": [],
   "source": [
    "model.evaluate(test_ds)  # First is loss ,second is accuracy "
   ]
  },
  {
   "cell_type": "code",
   "execution_count": null,
   "metadata": {},
   "outputs": [],
   "source": [
    "path = 'clothing-dataset-small/test/pants/c8d21106-bbdb-4e8d-83e4-bf3d14e54c16.jpg'"
   ]
  },
  {
   "cell_type": "code",
   "execution_count": null,
   "metadata": {},
   "outputs": [],
   "source": [
    "img = load_img(path, target_size=(299, 299))"
   ]
  },
  {
   "cell_type": "code",
   "execution_count": null,
   "metadata": {},
   "outputs": [],
   "source": [
    "import numpy as np"
   ]
  },
  {
   "cell_type": "code",
   "execution_count": null,
   "metadata": {},
   "outputs": [],
   "source": [
    "x = np.array(img)\n",
    "X = np.array([x])\n",
    "X.shape"
   ]
  },
  {
   "cell_type": "code",
   "execution_count": null,
   "metadata": {},
   "outputs": [],
   "source": [
    "X = preprocess_input(X)"
   ]
  },
  {
   "cell_type": "code",
   "execution_count": null,
   "metadata": {},
   "outputs": [],
   "source": [
    "pred = model.predict(X)"
   ]
  },
  {
   "cell_type": "code",
   "execution_count": 8,
   "metadata": {
    "execution": {
     "iopub.execute_input": "2023-11-13T15:29:35.681281Z",
     "iopub.status.busy": "2023-11-13T15:29:35.680886Z",
     "iopub.status.idle": "2023-11-13T15:29:35.685209Z",
     "shell.execute_reply": "2023-11-13T15:29:35.684427Z",
     "shell.execute_reply.started": "2023-11-13T15:29:35.681257Z"
    },
    "tags": []
   },
   "outputs": [],
   "source": [
    "classes = [\n",
    "    'dress',\n",
    "    'hat',\n",
    "    'longsleeve',\n",
    "    'outwear',\n",
    "    'pants',\n",
    "    'shirt',\n",
    "    'shoes',\n",
    "    'shorts',\n",
    "    'skirt',\n",
    "    't-shirt'\n",
    "]"
   ]
  },
  {
   "cell_type": "code",
   "execution_count": null,
   "metadata": {},
   "outputs": [],
   "source": [
    "dict(zip(classes, pred[0]))"
   ]
  },
  {
   "cell_type": "code",
   "execution_count": null,
   "metadata": {},
   "outputs": [],
   "source": []
  },
  {
   "cell_type": "code",
   "execution_count": null,
   "metadata": {},
   "outputs": [],
   "source": []
  }
 ],
 "metadata": {
  "kernelspec": {
   "display_name": "saturn (Python 3)",
   "language": "python",
   "name": "python3"
  },
  "language_info": {
   "codemirror_mode": {
    "name": "ipython",
    "version": 3
   },
   "file_extension": ".py",
   "mimetype": "text/x-python",
   "name": "python",
   "nbconvert_exporter": "python",
   "pygments_lexer": "ipython3",
   "version": "3.10.12"
  }
 },
 "nbformat": 4,
 "nbformat_minor": 4
}
