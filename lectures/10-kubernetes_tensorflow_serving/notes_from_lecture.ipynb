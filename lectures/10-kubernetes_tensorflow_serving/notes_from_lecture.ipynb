{
 "cells": [
  {
   "cell_type": "markdown",
   "metadata": {},
   "source": [
    "# Kubernetes & Tensorflow Serving for Image Classification\n",
    "\n",
    "- Two tier architecture\n",
    "- TF-Serving - GPU intensive, C++\n",
    "- Gateway\n",
    "  - process user input from website, input to TF-Serving\n",
    "  - process gRPC from TF Serving and output predictions in a valid format for the website"
   ]
  },
  {
   "cell_type": "code",
   "execution_count": 1,
   "metadata": {},
   "outputs": [],
   "source": [
    "# !wget https://github.com/DataTalksClub/machine-learning-zoomcamp/releases/download/chapter7-model/xception_v4_large_08_0.894.h5 -O clothing-model.h5"
   ]
  },
  {
   "cell_type": "code",
   "execution_count": 2,
   "metadata": {},
   "outputs": [
    {
     "ename": "ImportError",
     "evalue": "cannot import name 'keras' from 'tensorflow' (/home/tom/.cache/pypoetry/virtualenvs/ml-zoomcamp-9FM8Shbn-py3.10/lib/python3.10/site-packages/tensorflow/__init__.py)",
     "output_type": "error",
     "traceback": [
      "\u001b[0;31m---------------------------------------------------------------------------\u001b[0m",
      "\u001b[0;31mImportError\u001b[0m                               Traceback (most recent call last)",
      "\u001b[1;32m/home/tom/projects/ml-zoomcamp/lectures/10-kubernetes_tensorflow_serving/notes_from_lecture.ipynb Cell 3\u001b[0m line \u001b[0;36m3\n\u001b[1;32m      <a href='vscode-notebook-cell:/home/tom/projects/ml-zoomcamp/lectures/10-kubernetes_tensorflow_serving/notes_from_lecture.ipynb#W2sZmlsZQ%3D%3D?line=0'>1</a>\u001b[0m \u001b[39m# Convert the h5 to the format \"saved_model\"\u001b[39;00m\n\u001b[1;32m      <a href='vscode-notebook-cell:/home/tom/projects/ml-zoomcamp/lectures/10-kubernetes_tensorflow_serving/notes_from_lecture.ipynb#W2sZmlsZQ%3D%3D?line=1'>2</a>\u001b[0m \u001b[39mimport\u001b[39;00m \u001b[39mtensorflow\u001b[39;00m \u001b[39mas\u001b[39;00m \u001b[39mtf\u001b[39;00m\n\u001b[0;32m----> <a href='vscode-notebook-cell:/home/tom/projects/ml-zoomcamp/lectures/10-kubernetes_tensorflow_serving/notes_from_lecture.ipynb#W2sZmlsZQ%3D%3D?line=2'>3</a>\u001b[0m \u001b[39mfrom\u001b[39;00m \u001b[39mtensorflow\u001b[39;00m \u001b[39mimport\u001b[39;00m keras\n\u001b[1;32m      <a href='vscode-notebook-cell:/home/tom/projects/ml-zoomcamp/lectures/10-kubernetes_tensorflow_serving/notes_from_lecture.ipynb#W2sZmlsZQ%3D%3D?line=3'>4</a>\u001b[0m model \u001b[39m=\u001b[39m keras\u001b[39m.\u001b[39mmodels\u001b[39m.\u001b[39mload_model(\u001b[39m\"\u001b[39m\u001b[39mclothing-model-v4.h5\u001b[39m\u001b[39m\"\u001b[39m)\n",
      "\u001b[0;31mImportError\u001b[0m: cannot import name 'keras' from 'tensorflow' (/home/tom/.cache/pypoetry/virtualenvs/ml-zoomcamp-9FM8Shbn-py3.10/lib/python3.10/site-packages/tensorflow/__init__.py)"
     ]
    }
   ],
   "source": [
    "# Convert the h5 to the format \"saved_model\"\n",
    "import tensorflow as tf\n",
    "from tensorflow import keras\n",
    "model = keras.models.load_model(\"clothing-model-v4.h5\")"
   ]
  },
  {
   "cell_type": "code",
   "execution_count": null,
   "metadata": {},
   "outputs": [
    {
     "name": "stdout",
     "output_type": "stream",
     "text": [
      "INFO:tensorflow:Assets written to: clothing-model/assets\n"
     ]
    },
    {
     "name": "stderr",
     "output_type": "stream",
     "text": [
      "INFO:tensorflow:Assets written to: clothing-model/assets\n"
     ]
    }
   ],
   "source": [
    "# Model and folder in shihc the model will be saved\n",
    "tf.saved_model.save(model, \"clothing-model\")"
   ]
  },
  {
   "cell_type": "markdown",
   "metadata": {},
   "source": [
    "### Check the saved_model signature definition\n",
    "- `saved_model_cli show --dir clothing-model --all`\n",
    "\n",
    "```bash\n",
    "signature_def['serving_default']:\n",
    "  The given SavedModel SignatureDef contains the following input(s):\n",
    "    inputs['input_8'] tensor_info:\n",
    "        dtype: DT_FLOAT\n",
    "        shape: (-1, 299, 299, 3)\n",
    "        name: serving_default_input_8:0\n",
    "  The given SavedModel SignatureDef contains the following output(s):\n",
    "    outputs['dense_7'] tensor_info:\n",
    "        dtype: DT_FLOAT\n",
    "        shape: (-1, 10)\n",
    "        name: StatefulPartitionedCall:0\n",
    "  Method name is: tensorflow/serving/predict\n",
    "```\n",
    "- inputs.shape\n",
    "  - `-1` - can take as arbitrarily many images\n",
    "  - `299, 299, 3` - shape of a single image\n",
    "- outputs.shape\n",
    "  - `-1` - can be many outputs\n",
    "  - `10` - single output shape\n",
    "- summary of model description\n",
    "  - `serving_default`\n",
    "  - `input_8` - input\n",
    "  - `dense_7` - output"
   ]
  },
  {
   "cell_type": "markdown",
   "metadata": {},
   "source": [
    "### Can run TF-Serving locally now that these values are known\n",
    "- Inject local folder with the model (`clothing-model` folder), into the Docker container where TF-Serving is running, using mounting Docker volumes (-v)\n",
    "- Essentially maps folder from host machine to the container, similar syntax as with ports - `<host>:<container>`\n",
    "- Need to add env variable with `MODEL_NAME` (should be same as the folder name in container to which the local folder is moounted) \n",
    "-  \n",
    "```bash\n",
    "docker run -it --rm \\\n",
    " -p 8500:8500 \\\n",
    " -v \"./clothing-model:/models/clothing-model/1\" \\\n",
    " -e MODEL_NAME=\"clothing-model\" \\\n",
    " tensorflow/serving:2.7.0\n",
    "```\n",
    "- Testing in Notebook `tf_serving_connect`"
   ]
  },
  {
   "cell_type": "markdown",
   "metadata": {},
   "source": [
    "## 10.3 Creating a pre-processing service _aka_ Gateway\n",
    "- Converting the notebook to a Python script\n",
    "- Wrapping the script into a Flask app\n",
    "- Getting rid of the Tensorflow dep with `tensorflow-protobuf` - see file `proto.py`, as we're only using one function and the lib is too huge"
   ]
  },
  {
   "cell_type": "markdown",
   "metadata": {},
   "source": [
    "## 10.4 Running everything locally with Docker Compose\n",
    "- Preparing the images\n",
    "  - `docker build -t zoomcamp-10-model:xception-v4-001 -f image-model.dockerfile .`\n",
    "    - `docker run -it --rm -p 8500:8500 zoomcamp-10-model:xception-v4-001`\n",
    "  - `docker build -t zoomcamp-10-gateway:001 -f image-gateway.dockerfile .`\n",
    "    - `docker run -it --rm -p 9696:9696 zoomcamp-10-gateway`\n",
    "- Installing docker compose\n",
    "- Running the service\n",
    "- Testing the service"
   ]
  },
  {
   "cell_type": "markdown",
   "metadata": {},
   "source": [
    "## 10.5 Introduction to Kubernetes\n",
    " Allows to deploy to cliud and manage resources by adding more when there' s more load and downscaling - when there' s less.  \n",
    " Vertical - adding more resources to same instance  \n",
    " Horizontal - adding more instances  \n",
    "\n",
    "The anatomy of a Kubernetes cluster\n",
    "- Kubernetes Cluster -> Nodes -> Pods\n",
    "- Node ~ Server/Computer\n",
    "- Pod ~ Docker container that runs on Node\n",
    "- Deployment = Group of pods with the same Dockerimage and configuration\n",
    "- Service ~ entrypoint to our deployment - K8s routes requests from services to the pods\n",
    "  - In our case \n",
    "  - External service - gateway - load balances, \n",
    "  - Internal - TF serving- cluster IP\n",
    "- In front of the cluster there's ingress - entrypoint to the cluster - client' s contact this, then it routes request to one of external services\n",
    "- HPA - horizontal pod autoscaler - add more pods if more load (can set max and min pods) -new node would be requested to be created when there' s too many pods running on current node already, then new pods would be created there"
   ]
  },
  {
   "cell_type": "markdown",
   "metadata": {},
   "source": [
    "10.6 Deploying a simple service to Kubernetes\n",
    "- Create a simple ping application in Flask\n",
    "- Installing `kubectl` - for interacting with any K8s cluster\n",
    "- Setting up a local Kubernetes cluster with Kind - allows setting up a local K8s cluster\n",
    "- Creating a deployment\n",
    "- Creating a service"
   ]
  },
  {
   "cell_type": "markdown",
   "metadata": {},
   "source": []
  }
 ],
 "metadata": {
  "kernelspec": {
   "display_name": "ml-zoomcamp-9FM8Shbn-py3.10",
   "language": "python",
   "name": "python3"
  },
  "language_info": {
   "codemirror_mode": {
    "name": "ipython",
    "version": 3
   },
   "file_extension": ".py",
   "mimetype": "text/x-python",
   "name": "python",
   "nbconvert_exporter": "python",
   "pygments_lexer": "ipython3",
   "version": "3.10.12"
  }
 },
 "nbformat": 4,
 "nbformat_minor": 2
}
