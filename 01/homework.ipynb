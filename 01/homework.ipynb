{
 "cells": [
  {
   "cell_type": "code",
   "execution_count": 121,
   "id": "c871c23e-aba6-455a-9030-3d00ab4c1e09",
   "metadata": {},
   "outputs": [],
   "source": [
    "import pandas as pd\n",
    "import numpy as np"
   ]
  },
  {
   "cell_type": "code",
   "execution_count": 122,
   "id": "9dcd8c44-8469-4f05-b997-070f862ceb1d",
   "metadata": {},
   "outputs": [
    {
     "data": {
      "text/plain": [
       "'2.1.0'"
      ]
     },
     "execution_count": 122,
     "metadata": {},
     "output_type": "execute_result"
    }
   ],
   "source": [
    "### Question 1\n",
    "# What's the version of Pandas that you installed?\n",
    "pd.__version__\n",
    "# Version is 2.1.0"
   ]
  },
  {
   "cell_type": "code",
   "execution_count": 123,
   "id": "5217e521-28a7-4ed7-8578-a140fbb61635",
   "metadata": {},
   "outputs": [
    {
     "name": "stdout",
     "output_type": "stream",
     "text": [
      "--2023-09-17 21:21:17--  https://raw.githubusercontent.com/alexeygrigorev/datasets/master/housing.csv\n",
      "Resolving raw.githubusercontent.com (raw.githubusercontent.com)... 185.199.109.133, 185.199.108.133, 185.199.111.133, ...\n",
      "Connecting to raw.githubusercontent.com (raw.githubusercontent.com)|185.199.109.133|:443... connected.\n",
      "HTTP request sent, awaiting response... 200 OK\n",
      "Length: 1423529 (1,4M) [text/plain]\n",
      "Saving to: ‘housing.csv’\n",
      "\n",
      "housing.csv         100%[===================>]   1,36M  --.-KB/s    in 0,1s    \n",
      "\n",
      "2023-09-17 21:21:18 (13,8 MB/s) - ‘housing.csv’ saved [1423529/1423529]\n",
      "\n"
     ]
    }
   ],
   "source": [
    " !wget https://raw.githubusercontent.com/alexeygrigorev/datasets/master/housing.csv"
   ]
  },
  {
   "cell_type": "code",
   "execution_count": 124,
   "id": "cd67d203-40d3-491c-94bb-f471e04dbf82",
   "metadata": {},
   "outputs": [
    {
     "data": {
      "text/html": [
       "<div>\n",
       "<style scoped>\n",
       "    .dataframe tbody tr th:only-of-type {\n",
       "        vertical-align: middle;\n",
       "    }\n",
       "\n",
       "    .dataframe tbody tr th {\n",
       "        vertical-align: top;\n",
       "    }\n",
       "\n",
       "    .dataframe thead th {\n",
       "        text-align: right;\n",
       "    }\n",
       "</style>\n",
       "<table border=\"1\" class=\"dataframe\">\n",
       "  <thead>\n",
       "    <tr style=\"text-align: right;\">\n",
       "      <th></th>\n",
       "      <th>longitude</th>\n",
       "      <th>latitude</th>\n",
       "      <th>housing_median_age</th>\n",
       "      <th>total_rooms</th>\n",
       "      <th>total_bedrooms</th>\n",
       "      <th>population</th>\n",
       "      <th>households</th>\n",
       "      <th>median_income</th>\n",
       "      <th>median_house_value</th>\n",
       "      <th>ocean_proximity</th>\n",
       "    </tr>\n",
       "  </thead>\n",
       "  <tbody>\n",
       "    <tr>\n",
       "      <th>0</th>\n",
       "      <td>-122.23</td>\n",
       "      <td>37.88</td>\n",
       "      <td>41.0</td>\n",
       "      <td>880.0</td>\n",
       "      <td>129.0</td>\n",
       "      <td>322.0</td>\n",
       "      <td>126.0</td>\n",
       "      <td>8.3252</td>\n",
       "      <td>452600.0</td>\n",
       "      <td>NEAR BAY</td>\n",
       "    </tr>\n",
       "    <tr>\n",
       "      <th>1</th>\n",
       "      <td>-122.22</td>\n",
       "      <td>37.86</td>\n",
       "      <td>21.0</td>\n",
       "      <td>7099.0</td>\n",
       "      <td>1106.0</td>\n",
       "      <td>2401.0</td>\n",
       "      <td>1138.0</td>\n",
       "      <td>8.3014</td>\n",
       "      <td>358500.0</td>\n",
       "      <td>NEAR BAY</td>\n",
       "    </tr>\n",
       "    <tr>\n",
       "      <th>2</th>\n",
       "      <td>-122.24</td>\n",
       "      <td>37.85</td>\n",
       "      <td>52.0</td>\n",
       "      <td>1467.0</td>\n",
       "      <td>190.0</td>\n",
       "      <td>496.0</td>\n",
       "      <td>177.0</td>\n",
       "      <td>7.2574</td>\n",
       "      <td>352100.0</td>\n",
       "      <td>NEAR BAY</td>\n",
       "    </tr>\n",
       "    <tr>\n",
       "      <th>3</th>\n",
       "      <td>-122.25</td>\n",
       "      <td>37.85</td>\n",
       "      <td>52.0</td>\n",
       "      <td>1274.0</td>\n",
       "      <td>235.0</td>\n",
       "      <td>558.0</td>\n",
       "      <td>219.0</td>\n",
       "      <td>5.6431</td>\n",
       "      <td>341300.0</td>\n",
       "      <td>NEAR BAY</td>\n",
       "    </tr>\n",
       "    <tr>\n",
       "      <th>4</th>\n",
       "      <td>-122.25</td>\n",
       "      <td>37.85</td>\n",
       "      <td>52.0</td>\n",
       "      <td>1627.0</td>\n",
       "      <td>280.0</td>\n",
       "      <td>565.0</td>\n",
       "      <td>259.0</td>\n",
       "      <td>3.8462</td>\n",
       "      <td>342200.0</td>\n",
       "      <td>NEAR BAY</td>\n",
       "    </tr>\n",
       "  </tbody>\n",
       "</table>\n",
       "</div>"
      ],
      "text/plain": [
       "   longitude  latitude  housing_median_age  total_rooms  total_bedrooms  \\\n",
       "0    -122.23     37.88                41.0        880.0           129.0   \n",
       "1    -122.22     37.86                21.0       7099.0          1106.0   \n",
       "2    -122.24     37.85                52.0       1467.0           190.0   \n",
       "3    -122.25     37.85                52.0       1274.0           235.0   \n",
       "4    -122.25     37.85                52.0       1627.0           280.0   \n",
       "\n",
       "   population  households  median_income  median_house_value ocean_proximity  \n",
       "0       322.0       126.0         8.3252            452600.0        NEAR BAY  \n",
       "1      2401.0      1138.0         8.3014            358500.0        NEAR BAY  \n",
       "2       496.0       177.0         7.2574            352100.0        NEAR BAY  \n",
       "3       558.0       219.0         5.6431            341300.0        NEAR BAY  \n",
       "4       565.0       259.0         3.8462            342200.0        NEAR BAY  "
      ]
     },
     "execution_count": 124,
     "metadata": {},
     "output_type": "execute_result"
    }
   ],
   "source": [
    "df = pd.read_csv(r'/home/tom/projects/ml-zoomcamp/01/housing.csv')\n",
    "df.head()"
   ]
  },
  {
   "cell_type": "code",
   "execution_count": 125,
   "id": "7802ccad-af7b-4a4f-b0e3-5290d6c6b8cd",
   "metadata": {},
   "outputs": [
    {
     "data": {
      "text/plain": [
       "10"
      ]
     },
     "execution_count": 125,
     "metadata": {},
     "output_type": "execute_result"
    }
   ],
   "source": [
    "### Question 2\n",
    "\n",
    "# How many columns are in the dataset?\n",
    "\n",
    "df.shape[1] # gets the num cols\n",
    "# 10 columns in the dataset"
   ]
  },
  {
   "cell_type": "code",
   "execution_count": 126,
   "id": "d0bc54b2-b0d1-4477-8fc8-b47cdf702bdf",
   "metadata": {},
   "outputs": [
    {
     "data": {
      "text/plain": [
       "longitude               0\n",
       "latitude                0\n",
       "housing_median_age      0\n",
       "total_rooms             0\n",
       "total_bedrooms        207\n",
       "population              0\n",
       "households              0\n",
       "median_income           0\n",
       "median_house_value      0\n",
       "ocean_proximity         0\n",
       "dtype: int64"
      ]
     },
     "execution_count": 126,
     "metadata": {},
     "output_type": "execute_result"
    }
   ],
   "source": [
    "### Question 3\n",
    "\n",
    "# Which columns in the dataset have missing values?\n",
    "df.isnull().sum()\n",
    "# only 'total_bedrooms' column"
   ]
  },
  {
   "cell_type": "code",
   "execution_count": 127,
   "id": "2b413230-4d23-4954-8bcd-6c7c26999075",
   "metadata": {},
   "outputs": [
    {
     "data": {
      "text/plain": [
       "ocean_proximity    5\n",
       "dtype: int64"
      ]
     },
     "execution_count": 127,
     "metadata": {},
     "output_type": "execute_result"
    }
   ],
   "source": [
    "\n",
    "### Question 4\n",
    "\n",
    "# How many unique values does the `ocean_proximity` column have?\n",
    "\n",
    "df[['ocean_proximity']].nunique()\n",
    "\n",
    "# 5 unique values in 'ocean_proximity' column"
   ]
  },
  {
   "cell_type": "code",
   "execution_count": 128,
   "id": "e23ac89d-2723-402e-970b-12bdc2701681",
   "metadata": {},
   "outputs": [
    {
     "data": {
      "text/plain": [
       "259212.0"
      ]
     },
     "execution_count": 128,
     "metadata": {},
     "output_type": "execute_result"
    }
   ],
   "source": [
    "\n",
    "### Question 5\n",
    "\n",
    "# What's the average value of the `median_house_value` for the houses located near the bay?\n",
    "\n",
    "df[\n",
    "    df.ocean_proximity == \"NEAR BAY\"\n",
    "].median_house_value.mean().round(0)\n",
    "# Average value of the 'median_house_value' is 259212.0"
   ]
  },
  {
   "cell_type": "code",
   "execution_count": 129,
   "id": "f91088b2-d77c-4aa7-8a08-7cb06fa81fbc",
   "metadata": {},
   "outputs": [
    {
     "name": "stdout",
     "output_type": "stream",
     "text": [
      "537.871\n",
      "longitude             0\n",
      "latitude              0\n",
      "housing_median_age    0\n",
      "total_rooms           0\n",
      "total_bedrooms        0\n",
      "population            0\n",
      "households            0\n",
      "median_income         0\n",
      "median_house_value    0\n",
      "ocean_proximity       0\n",
      "dtype: int64\n",
      "537.871\n"
     ]
    },
    {
     "data": {
      "text/plain": [
       "'No'"
      ]
     },
     "execution_count": 129,
     "metadata": {},
     "output_type": "execute_result"
    }
   ],
   "source": [
    "### Question 6\n",
    "\n",
    "# 1. Calculate the average of `total_bedrooms` column in the dataset.\n",
    "# 2. Use the `fillna` method to fill the missing values in `total_bedrooms` with the mean value from the previous step.\n",
    "# 3. Now, calculate the average of `total_bedrooms` again.\n",
    "# 4. Has it changed?\n",
    "\n",
    "# Has it changed?\n",
    "\n",
    "# > Hint: take into account only 3 digits after the decimal point.\n",
    "\n",
    "# 1\n",
    "avg_bedrooms_with_na = df.total_bedrooms.mean().round(3)\n",
    "print(avg_bedrooms_with_na)\n",
    "# 2\n",
    "df.total_bedrooms = df.total_bedrooms.fillna(avg_bedrooms_with_na)\n",
    "print(df.isnull().sum())\n",
    "# 3\n",
    "avg_bedrooms_filled_na_with_mean = df.total_bedrooms.mean().round(3)\n",
    "print(avg_bedrooms_filled_na_with_mean)\n",
    "\n",
    "# 4\n",
    "\"Yes\" if avg_bedrooms_with_na != avg_bedrooms_filled_na_with_mean else \"No\"\n",
    "\n",
    "# No, mean hasn't changed"
   ]
  },
  {
   "cell_type": "code",
   "execution_count": 130,
   "id": "30fbd327-82e9-403c-97a7-d8748b537221",
   "metadata": {},
   "outputs": [
    {
     "data": {
      "text/plain": [
       "5.6992"
      ]
     },
     "execution_count": 130,
     "metadata": {},
     "output_type": "execute_result"
    }
   ],
   "source": [
    "### Question 7\n",
    "\n",
    "# 1. Select all the options located on islands.\n",
    "# 2. Select only columns `housing_median_age`, `total_rooms`, `total_bedrooms`.\n",
    "# 3. Get the underlying NumPy array. Let's call it `X`.\n",
    "# 4. Compute matrix-matrix multiplication between the transpose of `X` and `X`. To get the transpose, use `X.T`. Let's call the result `XTX`.\n",
    "# 5. Compute the inverse of `XTX`.\n",
    "# 6. Create an array `y` with values `[950, 1300, 800, 1000, 1300]`.\n",
    "# 7. Multiply the inverse of `XTX` with the transpose of `X`, and then multiply the result by `y`. Call the result `w`.\n",
    "# 8. What's the value of the last element of `w`?\n",
    "\n",
    "# > **Note**: You just implemented linear regression. We'll talk about it in the next lesson.\n",
    "\n",
    "# 1\n",
    "df.ocean_proximity.unique()\n",
    "options = df[\n",
    "    df.ocean_proximity == 'ISLAND'\n",
    "]\n",
    "\n",
    "# 2\n",
    "selected_cols = options[['housing_median_age', 'total_rooms', 'total_bedrooms']]\n",
    "\n",
    "# 3\n",
    "X = selected_cols.values\n",
    "\n",
    "# 4\n",
    "XT = X.T\n",
    "XTX = XT.dot(X)\n",
    "\n",
    "# 5\n",
    "XTX_inv = np.linalg.inv(XTX)\n",
    "\n",
    "# 6\n",
    "y = np.array([950, 1300, 800, 1000, 1300])\n",
    "\n",
    "# 7\n",
    "w = XTX_inv.dot(XT).dot(y)\n",
    "\n",
    "# 8\n",
    "w[-1].round(4)\n",
    "# Last element of 'w' is 5.699229455065586"
   ]
  }
 ],
 "metadata": {
  "kernelspec": {
   "display_name": "Python 3 (ipykernel)",
   "language": "python",
   "name": "python3"
  },
  "language_info": {
   "codemirror_mode": {
    "name": "ipython",
    "version": 3
   },
   "file_extension": ".py",
   "mimetype": "text/x-python",
   "name": "python",
   "nbconvert_exporter": "python",
   "pygments_lexer": "ipython3",
   "version": "3.10.12"
  }
 },
 "nbformat": 4,
 "nbformat_minor": 5
}
